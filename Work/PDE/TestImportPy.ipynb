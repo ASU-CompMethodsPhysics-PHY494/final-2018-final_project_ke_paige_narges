{
 "cells": [
  {
   "cell_type": "code",
   "execution_count": 1,
   "metadata": {},
   "outputs": [],
   "source": [
    "## simulations\n",
    "import numpy as np\n",
    "import input_parameters as cont\n",
    "import differentiation_matrix as diff\n",
    "import temporal_schemes"
   ]
  },
  {
   "cell_type": "code",
   "execution_count": 2,
   "metadata": {},
   "outputs": [],
   "source": [
    "## Call initialized U,V,T matrices\n",
    "U0 = diff.U_0()\n",
    "U1 = U0\n",
    "V0 = diff.V_0()\n",
    "V1 = V0\n",
    "T0 = diff.T_0()\n",
    "T1 = T0\n",
    "T2 = T1"
   ]
  },
  {
   "cell_type": "code",
   "execution_count": 3,
   "metadata": {},
   "outputs": [],
   "source": [
    "## U orginial BC\n",
    "U0j = U0[0,:]\n",
    "Umj = U0[-1,:]\n",
    "Ui0 = U0[:,0]\n",
    "Uim = U0[:,-1]\n",
    "\n",
    "## V original BC\n",
    "V0j = V0[0,:]\n",
    "Vmj = V0[-1,:]\n",
    "Vi0 = V0[:,0]\n",
    "Vim = V0[:,-1]"
   ]
  },
  {
   "cell_type": "code",
   "execution_count": 4,
   "metadata": {},
   "outputs": [],
   "source": [
    "T2 = T1\n",
    "P = U1\n",
    "U = U1\n",
    "V = V1\n",
    "Z = T1"
   ]
  },
  {
   "cell_type": "code",
   "execution_count": null,
   "metadata": {},
   "outputs": [],
   "source": []
  },
  {
   "cell_type": "code",
   "execution_count": null,
   "metadata": {},
   "outputs": [],
   "source": []
  },
  {
   "cell_type": "code",
   "execution_count": 5,
   "metadata": {},
   "outputs": [
    {
     "data": {
      "text/plain": [
       "matrix([[1364000.00000002, 1364000.00000002, 1364000.00000002, ...,\n",
       "         1364000.00000002, 1364000.00000002, 1364000.00000002],\n",
       "        [      0.        ,       0.        ,       0.        , ...,\n",
       "               0.        ,       0.        ,       0.        ],\n",
       "        [      0.        ,       0.        ,       0.        , ...,\n",
       "               0.        ,       0.        ,       0.        ],\n",
       "        ...,\n",
       "        [      0.        ,       0.        ,       0.        , ...,\n",
       "               0.        ,       0.        ,       0.        ],\n",
       "        [      0.        ,       0.        ,       0.        , ...,\n",
       "               0.        ,       0.        ,       0.        ],\n",
       "        [      0.        ,       0.        ,       0.        , ...,\n",
       "               0.        ,       0.        ,       0.        ]])"
      ]
     },
     "execution_count": 5,
     "metadata": {},
     "output_type": "execute_result"
    }
   ],
   "source": [
    "temporal_schemes.NL(U0,V0,T0)"
   ]
  },
  {
   "cell_type": "code",
   "execution_count": 6,
   "metadata": {},
   "outputs": [
    {
     "data": {
      "text/plain": [
       "((63, 63), (63, 63), ())"
      ]
     },
     "execution_count": 6,
     "metadata": {},
     "output_type": "execute_result"
    }
   ],
   "source": [
    "A,B,C = temporal_schemes.LHS_T()\n",
    "np.shape(A),np.shape(B),np.shape(C)"
   ]
  },
  {
   "cell_type": "code",
   "execution_count": 8,
   "metadata": {},
   "outputs": [
    {
     "data": {
      "text/plain": [
       "matrix([[ 0.00125,  0.00125,  0.00125, ...,  0.00125,  0.00125,  0.00125],\n",
       "        [ 0.     ,  0.     ,  0.     , ...,  0.     ,  0.     ,  0.     ],\n",
       "        [ 0.     ,  0.     ,  0.     , ...,  0.     ,  0.     ,  0.     ],\n",
       "        ...,\n",
       "        [ 0.     ,  0.     ,  0.     , ...,  0.     ,  0.     ,  0.     ],\n",
       "        [ 0.     ,  0.     ,  0.     , ...,  0.     ,  0.     ,  0.     ],\n",
       "        [-0.00125, -0.00125, -0.00125, ..., -0.00125, -0.00125, -0.00125]])"
      ]
     },
     "execution_count": 8,
     "metadata": {},
     "output_type": "execute_result"
    }
   ],
   "source": [
    "temporal_schemes.RHS_T(U0,V0,T0,U1,V1,T1)"
   ]
  },
  {
   "cell_type": "code",
   "execution_count": null,
   "metadata": {},
   "outputs": [],
   "source": [
    "A,B,C = temporal_schemes.LHS_P()\n",
    "np.shape(A), np.shape(B), np.shape(C)"
   ]
  },
  {
   "cell_type": "code",
   "execution_count": null,
   "metadata": {},
   "outputs": [],
   "source": [
    "RHSP = temporal_schemes.RHS_P(U0,V0,T0,U1,V1,T1,T2)\n",
    "np.shape(RHSP)"
   ]
  },
  {
   "cell_type": "code",
   "execution_count": null,
   "metadata": {},
   "outputs": [],
   "source": [
    "RHSU, RHSV = temporal_schemes.RHS_U(U0,V0,T0,U1,V1,T1,T2,P)\n",
    "np.shape(RHSU), np.shape(RHSV)"
   ]
  },
  {
   "cell_type": "code",
   "execution_count": null,
   "metadata": {},
   "outputs": [],
   "source": [
    "A,B,C = temporal_schemes.LHS_U()\n",
    "np.shape(A), np.shape(B), np.shape(C)"
   ]
  },
  {
   "cell_type": "code",
   "execution_count": null,
   "metadata": {},
   "outputs": [],
   "source": [
    "RHSZ = temporal_schemes.RHS_Z(U1,V1)\n",
    "np.shape(RHSZ)"
   ]
  },
  {
   "cell_type": "code",
   "execution_count": null,
   "metadata": {},
   "outputs": [],
   "source": [
    "A,B,C = temporal_schemes.LHS_Z()\n",
    "np.shape(A), np.shape(B), np.shape(C)"
   ]
  },
  {
   "cell_type": "code",
   "execution_count": null,
   "metadata": {},
   "outputs": [],
   "source": [
    "P2,U2,V2 = temporal_schemes.PUV(P,U,V,T)"
   ]
  },
  {
   "cell_type": "code",
   "execution_count": null,
   "metadata": {},
   "outputs": [],
   "source": []
  }
 ],
 "metadata": {
  "kernelspec": {
   "display_name": "Python 3",
   "language": "python",
   "name": "python3"
  },
  "language_info": {
   "codemirror_mode": {
    "name": "ipython",
    "version": 3
   },
   "file_extension": ".py",
   "mimetype": "text/x-python",
   "name": "python",
   "nbconvert_exporter": "python",
   "pygments_lexer": "ipython3",
   "version": "3.6.4"
  }
 },
 "nbformat": 4,
 "nbformat_minor": 2
}
