{
 "cells": [
  {
   "cell_type": "code",
   "execution_count": 1,
   "metadata": {},
   "outputs": [],
   "source": [
    "## simulations\n",
    "import numpy as np\n",
    "import input_parameters as cont\n",
    "import differentiation_matrix as diff"
   ]
  },
  {
   "cell_type": "code",
   "execution_count": 2,
   "metadata": {},
   "outputs": [],
   "source": [
    "## initialize Chebyshev differentiation matrix\n",
    "x,y = diff.xy_grid()\n",
    "\n",
    "D = diff.D_matrix(x)\n",
    "TD = np.transpose(D)\n",
    "\n",
    "D2 = D*D\n",
    "TD2 = TD*TD"
   ]
  },
  {
   "cell_type": "code",
   "execution_count": 10,
   "metadata": {},
   "outputs": [],
   "source": [
    "## boundary conditions\n",
    "\n",
    "## D\n",
    "D00 = D[0,0]\n",
    "Dm0 = D[-1,0]\n",
    "D0m = D[0,-1]\n",
    "Dmm = D[-1,-1]\n",
    "\n",
    "D0k = D[0,1:-1]\n",
    "Dmk = D[-1,1:-1]\n",
    "\n",
    "\n",
    "\n",
    "\n",
    "## D transpose\n",
    "TD00 = TD[0,0]\n",
    "TD0m = TD[0,-1]\n",
    "TDm0 = TD[-1,0]\n",
    "TDmm = TD[-1,-1]\n",
    "\n",
    "TDk0 = TD[1:-1,0]\n",
    "TDkm = TD[1:-1,-1]"
   ]
  },
  {
   "cell_type": "code",
   "execution_count": 4,
   "metadata": {},
   "outputs": [],
   "source": [
    "## Call initialized U,V,T matrices\n",
    "U0 = diff.U_0()\n",
    "U1 = U0\n",
    "V0 = diff.V_0()\n",
    "V1 = V0\n",
    "T0 = diff.T_0()\n",
    "T1 = T0\n",
    "T2 = T1\n",
    "P = U1"
   ]
  },
  {
   "cell_type": "code",
   "execution_count": 5,
   "metadata": {},
   "outputs": [],
   "source": [
    "## U orginial BC\n",
    "U0j = U0[0,:]\n",
    "Umj = U0[-1,:]\n",
    "Ui0 = U0[:,0]\n",
    "Uim = U0[:,-1]\n",
    "\n",
    "## V original BC\n",
    "V0j = V0[0,:]\n",
    "Vmj = V0[-1,:]\n",
    "Vi0 = V0[:,0]\n",
    "Vim = V0[:,-1]"
   ]
  },
  {
   "cell_type": "code",
   "execution_count": 6,
   "metadata": {},
   "outputs": [
    {
     "data": {
      "text/plain": [
       "matrix([[1364000.00000002, 1364000.00000002, 1364000.00000002, ...,\n",
       "         1364000.00000002, 1364000.00000002, 1364000.00000002],\n",
       "        [      0.        ,       0.        ,       0.        , ...,\n",
       "               0.        ,       0.        ,       0.        ],\n",
       "        [      0.        ,       0.        ,       0.        , ...,\n",
       "               0.        ,       0.        ,       0.        ],\n",
       "        ...,\n",
       "        [      0.        ,       0.        ,       0.        , ...,\n",
       "               0.        ,       0.        ,       0.        ],\n",
       "        [      0.        ,       0.        ,       0.        , ...,\n",
       "               0.        ,       0.        ,       0.        ],\n",
       "        [      0.        ,       0.        ,       0.        , ...,\n",
       "               0.        ,       0.        ,       0.        ]])"
      ]
     },
     "execution_count": 6,
     "metadata": {},
     "output_type": "execute_result"
    }
   ],
   "source": [
    "## NLT\n",
    "def NL(U,V,X):\n",
    "    NLX = cont.asp* U * (D*X) + cont.asp* V * (X*np.transpose(D))\n",
    "    return NLX\n",
    "\n",
    "NL(U0,V0,T0)"
   ]
  },
  {
   "cell_type": "code",
   "execution_count": 7,
   "metadata": {},
   "outputs": [
    {
     "data": {
      "text/plain": [
       "((63, 63), (63, 63), ())"
      ]
     },
     "execution_count": 7,
     "metadata": {},
     "output_type": "execute_result"
    }
   ],
   "source": [
    "def LHS_T():\n",
    "    \n",
    "    ## Helmoltz constants\n",
    "    A = np.empty_like(D2[1:-1,1:-1])\n",
    "    for i in range(1,cont.M):\n",
    "        A[i-1,:] = cont.asp*cont.asp*(D2[i,1:-1] - D2[i,0] * ((Dmm*D0k - D0m*Dmk)/(D00*Dmm - Dm0*D0m)) - D2[i,-1]*((Dm0*D0k - D00*Dmk)/(Dm0*D0m - D00*Dmm)))\n",
    "    B = cont.asp*cont.asp*TD2[1:-1,1:-1]\n",
    "    C = 3*(cont.Pr/(2*cont.dt))\n",
    "    \n",
    "    return A,B,C\n",
    "\n",
    "A,B,C = LHS_T()\n",
    "np.shape(A),np.shape(B),np.shape(C)"
   ]
  },
  {
   "cell_type": "code",
   "execution_count": 8,
   "metadata": {
    "scrolled": true
   },
   "outputs": [
    {
     "data": {
      "text/plain": [
       "(65, 65)"
      ]
     },
     "execution_count": 8,
     "metadata": {},
     "output_type": "execute_result"
    }
   ],
   "source": [
    "## right hand side of Temportal Scheme\n",
    "def RHS_T():\n",
    "    \n",
    "    RHST = NL(U1,V1,T1) - NL(U0,V0,T0) + ((4*T1 + T0)/2*cont.dt)\n",
    "    \n",
    "    for i in range(1,cont.M):\n",
    "        for j in range(1,cont.M):\n",
    "            RHST[i,j] -= cont.asp*cont.asp*(T1[i,0]*TD2[0,j] + T1[i,-1]*TD2[-1,j]) \n",
    "        \n",
    "    return RHST\n",
    "\n",
    "RHS_T()\n",
    "np.shape(RHS_T())"
   ]
  },
  {
   "cell_type": "code",
   "execution_count": 11,
   "metadata": {},
   "outputs": [
    {
     "data": {
      "text/plain": [
       "((63, 63), (63, 63), ())"
      ]
     },
     "execution_count": 11,
     "metadata": {},
     "output_type": "execute_result"
    }
   ],
   "source": [
    "def LHS_P():\n",
    "\n",
    "    ## Helmoltz constants\n",
    "    A = np.empty_like(D2[1:-1,1:-1])\n",
    "    B = np.empty_like(D2[1:-1,1:-1])    \n",
    "    for i in range(1,cont.M-1):\n",
    "        A[i-1,:] = cont.asp*cont.asp*( D2[i,1:-1] - D2[i,-1]* ((Dm0*D0k - D00*Dmk)/(Dm0*D0m - D00*Dmm)) - D2[i,0] * ((Dmm*D0k - D0m*Dmk)/(D00*Dmm - Dm0*D0m))  )\n",
    "        B[:,i-1] = cont.asp*cont.asp*( TD2[1:-1,i] - ((TDmm*TDk0 - TDm0*TDkm)/(TD00*TDmm - TD0m*TDm0)) * TD2[0,i] - ((TD0m*TDk0 - TD00*TDkm)/(TD0m*TDm0 - TD00*TDmm))*TD2[-1,i]  )\n",
    "    C = 0\n",
    "    \n",
    "    return A,B,C\n",
    "\n",
    "A,B,C = LHS_P()\n",
    "np.shape(A), np.shape(B), np.shape(C)"
   ]
  },
  {
   "cell_type": "code",
   "execution_count": 12,
   "metadata": {
    "scrolled": true
   },
   "outputs": [
    {
     "data": {
      "text/plain": [
       "(63, 63)"
      ]
     },
     "execution_count": 12,
     "metadata": {},
     "output_type": "execute_result"
    }
   ],
   "source": [
    "def RHS_P():\n",
    "    \n",
    "    RHSP1 = cont.asp*D*(-2*NL(U1,V1,U1) + NL(U0,V0,U0))\n",
    "    RHSP2 = cont.asp*((-2*NL(U1,V1,V1) + NL(U0,V0,V0) + cont.Ri*cont.Re*cont.Re*T2)*TD)\n",
    "\n",
    "    RHSP = np.empty_like(D2[1:-1,1:-1])    \n",
    "    for i in range(1,cont.M):\n",
    "        for j in range(1,cont.M):\n",
    "            RHSP[i-1,j-1] = RHSP1[i,j] + RHSP2[i,j] - cont.asp*(D2[i,0]*((RHSP1[0,j]*Dmm -  RHSP1[-1,j]*D0m)/(D00*Dmm - D0m*Dm0)) + D2[i,-1]*((RHSP1[0,j]*Dm0 -  RHSP1[-1,j]*D00)/(Dm0*D0m - D00*Dmm)) + TD2[0,j]*((RHSP2[i,0]*TDmm - RHSP2[i,-1]*TDm0)/(TD00*TDmm - TD0m*TDm0)) + TD2[-1,i]*(RHSP2[i,0]*TD0m - RHSP2[i,-1]*TD00)/(TD0m*TDm0 - TD00*TDmm))\n",
    "    \n",
    "    return RHSP\n",
    "\n",
    "RHSP = RHS_P()\n",
    "np.shape(RHSP)"
   ]
  },
  {
   "cell_type": "code",
   "execution_count": 13,
   "metadata": {},
   "outputs": [
    {
     "data": {
      "text/plain": [
       "((65, 65), (65, 65))"
      ]
     },
     "execution_count": 13,
     "metadata": {},
     "output_type": "execute_result"
    }
   ],
   "source": [
    "def RHS_U(P):\n",
    "\n",
    "    RHSU = cont.asp*D*P + 2*NL(U1,V1,U1) - NL(U0,V0,U0) + ((4*U1 - U0)/2*cont.dt) - cont.Ri*cont.Re*cont.Re*T2\n",
    "    RHSV = cont.asp*P*TD + NL(U1,V1,V1) - NL(U0,V0,V0) + ((4*V1 + V0)/2*cont.dt) - cont.Ri*cont.Re*cont.Re*T2\n",
    "    \n",
    "    for i in range(1,cont.M):\n",
    "        for j in range(1,cont.M):\n",
    "            RHSU[i,j] -= cont.asp*cont.asp*(D2[i,0]*U0j[0,j] + D2[i,-1]*Umj[0,j] + Ui0[i,0]*TD2[0,j] + Uim[i,0]*TD2[-1,j])    \n",
    "            RHSV[i,j] -= cont.asp*cont.asp*(D2[i,0]*V0j[0,j] + D2[i,-1]*Vmj[0,j] + Vi0[i,0]*TD2[0,j] + Vim[i,0]*TD2[-1,j])\n",
    "\n",
    "    return RHSU, RHSV\n",
    "\n",
    "RHSU, RHSV = RHS_U(P)\n",
    "np.shape(RHSU), np.shape(RHSV)"
   ]
  },
  {
   "cell_type": "code",
   "execution_count": 14,
   "metadata": {},
   "outputs": [
    {
     "data": {
      "text/plain": [
       "((63, 63), (63, 63), ())"
      ]
     },
     "execution_count": 14,
     "metadata": {},
     "output_type": "execute_result"
    }
   ],
   "source": [
    "def LHS_U():\n",
    "\n",
    "    ## Helmoltz constants\n",
    "    A = D2[1:-1,1:-1]\n",
    "    B = TD2[1:-1,1:-1]\n",
    "    C = 3*(cont.Pr/(2*cont.dt))\n",
    "\n",
    "    return A,B,C\n",
    "\n",
    "A,B,C = LHS_U()\n",
    "np.shape(A), np.shape(B), np.shape(C)"
   ]
  },
  {
   "cell_type": "code",
   "execution_count": 15,
   "metadata": {},
   "outputs": [
    {
     "data": {
      "text/plain": [
       "(65, 65)"
      ]
     },
     "execution_count": 15,
     "metadata": {},
     "output_type": "execute_result"
    }
   ],
   "source": [
    "def RHS_Z(U, V):\n",
    "    \n",
    "    RHSZ = cont.asp*(D*U + V*TD)\n",
    "    RHSZ *= 0.25\n",
    "\n",
    "    return RHSZ\n",
    "\n",
    "RHSZ = RHS_Z(U1,V1)\n",
    "np.shape(RHSZ)"
   ]
  },
  {
   "cell_type": "code",
   "execution_count": 16,
   "metadata": {},
   "outputs": [
    {
     "data": {
      "text/plain": [
       "((63, 63), (63, 63), ())"
      ]
     },
     "execution_count": 16,
     "metadata": {},
     "output_type": "execute_result"
    }
   ],
   "source": [
    "def LHS_Z():\n",
    "\n",
    "    ## Helmoltz constants\n",
    "    A = np.empty_like(D2[1:-1,1:-1])\n",
    "    B = np.empty_like(D2[1:-1,1:-1]) \n",
    "    ## Helmoltz constants\n",
    "    for i in range(1,cont.M):\n",
    "        A[i-1,:] = ( D2[i,1:-1] - D2[i,-1] * ((Dm0*D0k - D00*Dmk)/(Dm0*D0m - D00*Dmm)) - D2[i,0] * ((Dmm*D0k - D0m*Dmk)/(D00*Dmm - Dm0*D0m))  )\n",
    "        B[:,i-1] = ( TD2[1:-1,i] - ((TDmm*TDk0 - TDm0*TDkm)/(TD00*TDmm - TD0m*TDm0)) * TD2[0,i] - ((TD0m*TDk0 - TD00*TDkm)/(TD0m*TDm0 - TD00*TDmm))*TD2[-1,i]  )\n",
    "    C = 0\n",
    "    return A,B,C\n",
    "\n",
    "A,B,C = LHS_Z()\n",
    "np.shape(A), np.shape(B), np.shape(C)"
   ]
  },
  {
   "cell_type": "code",
   "execution_count": 18,
   "metadata": {},
   "outputs": [],
   "source": [
    "def PUV(P, U, V, Z):\n",
    "    TD = np.transpose(D)\n",
    "    P2 = P + (3*(cont.Pr/(2*cont.dt))) * Z\n",
    "    U2 = U - cont.asp * D * Z\n",
    "    V2 = V  - cont.asp * Z * TD\n",
    "\n",
    "    return P2, U2, V2\n",
    "\n",
    "P2,U2,V2 = PUV(T1,U1,V1,T0)"
   ]
  },
  {
   "cell_type": "code",
   "execution_count": null,
   "metadata": {},
   "outputs": [],
   "source": []
  }
 ],
 "metadata": {
  "kernelspec": {
   "display_name": "Python 3",
   "language": "python",
   "name": "python3"
  },
  "language_info": {
   "codemirror_mode": {
    "name": "ipython",
    "version": 3
   },
   "file_extension": ".py",
   "mimetype": "text/x-python",
   "name": "python",
   "nbconvert_exporter": "python",
   "pygments_lexer": "ipython3",
   "version": "3.6.4"
  }
 },
 "nbformat": 4,
 "nbformat_minor": 2
}
