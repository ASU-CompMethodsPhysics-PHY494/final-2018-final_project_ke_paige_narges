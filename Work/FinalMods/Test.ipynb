{
 "cells": [
  {
   "cell_type": "code",
   "execution_count": 1,
   "metadata": {},
   "outputs": [],
   "source": [
    "## simulations\n",
    "import numpy as np\n",
    "import input_parameters as cont\n",
    "import differentiation_matrix as diff"
   ]
  },
  {
   "cell_type": "code",
   "execution_count": 2,
   "metadata": {},
   "outputs": [],
   "source": [
    "## initialize Chebyshev differentiation matrix\n",
    "x,y = diff.xy_grid()\n",
    "\n",
    "D = diff.D_matrix(x)\n",
    "TD = np.transpose(D)\n",
    "\n",
    "D2 = D*D\n",
    "TD2 = TD*TD"
   ]
  },
  {
   "cell_type": "code",
   "execution_count": 3,
   "metadata": {},
   "outputs": [],
   "source": [
    "## boundary conditions\n",
    "\n",
    "## D\n",
    "D00 = D[0,0]\n",
    "Dm0 = D[-1,0]\n",
    "D0m = D[0,-1]\n",
    "Dmm = D[-1,-1]\n",
    "\n",
    "D0k = D[0,1:-1]\n",
    "Dmk = D[-1,1:-1]\n",
    "\n",
    "\n",
    "\n",
    "\n",
    "## D transpose\n",
    "TD00 = TD[0,0]\n",
    "TD0m = TD[0,-1]\n",
    "TDm0 = TD[-1,0]\n",
    "TDmm = TD[-1,-1]\n",
    "\n",
    "TDk0 = TD[1:-1,0]\n",
    "TDkm = TD[1:-1,-1]"
   ]
  },
  {
   "cell_type": "code",
   "execution_count": 4,
   "metadata": {},
   "outputs": [],
   "source": [
    "## Call initialized U,V,T matrices\n",
    "U0 = diff.U_0()\n",
    "U1 = U0\n",
    "V0 = diff.V_0()\n",
    "V1 = V0\n",
    "T0 = diff.T_0()\n",
    "T1 = T0\n",
    "T2 = T1\n",
    "P = U1"
   ]
  },
  {
   "cell_type": "code",
   "execution_count": 5,
   "metadata": {
    "scrolled": true
   },
   "outputs": [
    {
     "data": {
      "text/plain": [
       "(matrix([[2750.,    0.,    0.,    0.,    0.,    0.],\n",
       "         [2750.,    0.,    0.,    0.,    0.,    0.],\n",
       "         [2750.,    0.,    0.,    0.,    0.,    0.],\n",
       "         [2750.,    0.,    0.,    0.,    0.,    0.],\n",
       "         [2750.,    0.,    0.,    0.,    0.,    0.],\n",
       "         [2750.,    0.,    0.,    0.,    0.,    0.]]),\n",
       " matrix([[ 0.5,  0. ,  0. ,  0. ,  0. , -0.5],\n",
       "         [ 0.5,  0. ,  0. ,  0. ,  0. , -0.5],\n",
       "         [ 0.5,  0. ,  0. ,  0. ,  0. , -0.5],\n",
       "         [ 0.5,  0. ,  0. ,  0. ,  0. , -0.5],\n",
       "         [ 0.5,  0. ,  0. ,  0. ,  0. , -0.5],\n",
       "         [ 0.5,  0. ,  0. ,  0. ,  0. , -0.5]]),\n",
       " matrix([[0., 0., 0., 0., 0., 0.],\n",
       "         [0., 0., 0., 0., 0., 0.],\n",
       "         [0., 0., 0., 0., 0., 0.],\n",
       "         [0., 0., 0., 0., 0., 0.],\n",
       "         [0., 0., 0., 0., 0., 0.],\n",
       "         [0., 0., 0., 0., 0., 0.]]))"
      ]
     },
     "execution_count": 5,
     "metadata": {},
     "output_type": "execute_result"
    }
   ],
   "source": [
    "U0, T0, V0"
   ]
  },
  {
   "cell_type": "code",
   "execution_count": 6,
   "metadata": {},
   "outputs": [],
   "source": [
    "## U orginial BC\n",
    "Ui0 = U0[:,0]\n",
    "Uin = U0[:,-1]\n",
    "U0j = U0[0,:]\n",
    "Umj = U0[-1,:]\n",
    "\n",
    "## V original BC\n",
    "Vi0 = V0[:,:]\n",
    "Vin = V0[:,-1]\n",
    "V0j = V0[0,:]\n",
    "Vmj = V0[-1,:]"
   ]
  },
  {
   "cell_type": "code",
   "execution_count": 7,
   "metadata": {},
   "outputs": [
    {
     "data": {
      "text/plain": [
       "(matrix([[2750.,    0.,    0.,    0.,    0.,    0.]]),\n",
       " matrix([[2750.,    0.,    0.,    0.,    0.,    0.]]),\n",
       " matrix([[2750.],\n",
       "         [2750.],\n",
       "         [2750.],\n",
       "         [2750.],\n",
       "         [2750.],\n",
       "         [2750.]]),\n",
       " matrix([[0.],\n",
       "         [0.],\n",
       "         [0.],\n",
       "         [0.],\n",
       "         [0.],\n",
       "         [0.]]))"
      ]
     },
     "execution_count": 7,
     "metadata": {},
     "output_type": "execute_result"
    }
   ],
   "source": [
    "U0j, Umj, Ui0, Uin"
   ]
  },
  {
   "cell_type": "code",
   "execution_count": 8,
   "metadata": {
    "scrolled": true
   },
   "outputs": [
    {
     "data": {
      "text/plain": [
       "matrix([[-4.88498131e-12],\n",
       "        [ 0.00000000e+00],\n",
       "        [ 3.05311332e-13],\n",
       "        [-1.52655666e-13],\n",
       "        [ 6.10622664e-13],\n",
       "        [-1.46549439e-11]])"
      ]
     },
     "execution_count": 8,
     "metadata": {},
     "output_type": "execute_result"
    }
   ],
   "source": [
    "## NLT\n",
    "def NL(U,V,X):\n",
    "    NLX = np.asmatrix(np.asarray(U) * np.asarray(D*X)) +\\\n",
    "          np.asmatrix(np.asarray(V) * np.asarray(X*TD))\n",
    "    NLX  = NLX * 2\n",
    "    return NLX\n",
    "\n",
    "NL(U0,V0,T0)[:,0]"
   ]
  },
  {
   "cell_type": "code",
   "execution_count": 9,
   "metadata": {},
   "outputs": [],
   "source": [
    "def eigens_T():\n",
    "    eigen_vec_T1  = np.zeros([cont.M+1,cont.M+1])\n",
    "    eigen_val_T1 = np.zeros([cont.M+1])\n",
    "    eigen_vec_T2  = np.zeros([cont.N+1,cont.N+1])\n",
    "    eigen_val_T2 = np.zeros([cont.N+1])\n",
    "    tempx = np.zeros([cont.M+1,cont.M+1])\n",
    "    tempy = np.zeros([cont.N+1,cont.N+1])\n",
    "    \n",
    "    D00_MM_DM0_0M   = D[0,0]*D[cont.M,cont.M]   - D[cont.M,0]*D[0,cont.M]\n",
    "    TD00_NN_TD0N_N0 = TD[0,0]*TD[cont.N,cont.N] - TD[0,cont.N]*TD[cont.N,cont.N] \n",
    "    \n",
    "    for i in range(1,cont.M): # Neumann boundary conditions\n",
    "        tempx[i,1:cont.M] =-D2[i,0] * (D[cont.M,cont.M]*D[0,1:cont.M]-D[0,cont.M]*D[cont.M,1:cont.M])/D00_MM_DM0_0M \\\n",
    "                    +D2[i,cont.M] * (D[cont.M,0]*D[0,1:cont.M]-D[0,0]*D[cont.M,1:cont.M])/D00_MM_DM0_0M \n",
    "    tempx[1:cont.M,1:cont.M] = (D2[1:cont.M,1:cont.M] - tempx[1:cont.M,1:cont.M])\n",
    "    ##tempx[1:cont.M,1:cont.M] = cont.asp**2 * (D2[1:cont.M,1:cont.M] - tempx[1:cont.M,1:cont.M])\n",
    "                       # Dirichlet boundary conditions \n",
    "   \n",
    "    tempy[1:cont.N,1:cont.N] = TD2[1:cont.N,1:cont.N] \n",
    "    ##tempy[1:cont.N,1:cont.N] = cont.asp**2 * TD2[1:cont.N,1:cont.N] \n",
    "    \n",
    "    eigen_val_T1[1:cont.M], eigen_vec_T1[1:cont.M,1:cont.M] = np.linalg.eig(tempx[1:cont.M,1:cont.M])\n",
    "    eigen_val_T2[1:cont.N]  , eigen_vec_T2[1:cont.N,1:cont.N] = np.linalg.eig(tempy[1:cont.N,1:cont.N] )\n",
    "\n",
    "    return eigen_vec_T1, eigen_val_T1, eigen_vec_T2, eigen_val_T2"
   ]
  },
  {
   "cell_type": "code",
   "execution_count": 10,
   "metadata": {
    "scrolled": true
   },
   "outputs": [
    {
     "data": {
      "text/plain": [
       "(array([[ 0.        ,  0.        ,  0.        ,  0.        ,  0.        ,\n",
       "          0.        ],\n",
       "        [ 0.        , -0.68734786,  0.70085317,  0.32956835,  0.16996845,\n",
       "          0.        ],\n",
       "        [ 0.        ,  0.16599071, -0.09383407,  0.62560747,  0.68637506,\n",
       "          0.        ],\n",
       "        [ 0.        , -0.16599071, -0.09383407, -0.62560747,  0.68637506,\n",
       "          0.        ],\n",
       "        [ 0.        ,  0.68734786,  0.70085317, -0.32956835,  0.16996845,\n",
       "          0.        ],\n",
       "        [ 0.        ,  0.        ,  0.        ,  0.        ,  0.        ,\n",
       "          0.        ]]),\n",
       " array([  0.        , -68.9464202 , -54.79692289, -10.52024646,\n",
       "         -2.80307711,   0.        ]),\n",
       " array([[ 0.        ,  0.        ,  0.        ,  0.        ,  0.        ,\n",
       "          0.        ],\n",
       "        [ 0.        ,  0.58518021, -0.67054171,  0.25231132,  0.13967049,\n",
       "          0.        ],\n",
       "        [ 0.        , -0.39694347,  0.22444111,  0.66055961,  0.69317541,\n",
       "          0.        ],\n",
       "        [ 0.        ,  0.39694347,  0.22444111, -0.66055961,  0.69317541,\n",
       "          0.        ],\n",
       "        [ 0.        , -0.58518021, -0.67054171, -0.25231132,  0.13967049,\n",
       "          0.        ],\n",
       "        [ 0.        ,  0.        ,  0.        ,  0.        ,  0.        ,\n",
       "          0.        ]]),\n",
       " array([  0.        , -40.        , -31.13317829,  -9.6       ,\n",
       "         -2.46682171,   0.        ]))"
      ]
     },
     "execution_count": 10,
     "metadata": {},
     "output_type": "execute_result"
    }
   ],
   "source": [
    "eigens_T()"
   ]
  },
  {
   "cell_type": "code",
   "execution_count": 11,
   "metadata": {},
   "outputs": [
    {
     "data": {
      "text/plain": [
       "(6, 6)"
      ]
     },
     "execution_count": 11,
     "metadata": {},
     "output_type": "execute_result"
    }
   ],
   "source": [
    "def RHS_T():\n",
    "    \n",
    "    RHST = NL(U1,V1,T1) - NL(U0,V0,T0) + ((4*T1 + T0)/2*cont.dt)\n",
    "    \n",
    "    for i in range(1,cont.M):\n",
    "        for j in range(1,cont.N):\n",
    "            RHST[i,j] -= cont.asp*cont.asp*(T1[i,0]*TD2[0,j] + T1[i,-1]*TD2[-1,j]) \n",
    "        \n",
    "    return RHST\n",
    "\n",
    "RHS_T()\n",
    "np.shape(RHS_T())"
   ]
  },
  {
   "cell_type": "code",
   "execution_count": 12,
   "metadata": {},
   "outputs": [
    {
     "data": {
      "text/plain": [
       "matrix([[ 1.25000000e-03,  0.00000000e+00,  0.00000000e+00,\n",
       "          0.00000000e+00,  0.00000000e+00, -1.25000000e-03],\n",
       "        [ 1.25000000e-03, -4.44773982e+01,  5.12260180e+00,\n",
       "         -5.12260180e+00,  4.44773982e+01, -1.25000000e-03],\n",
       "        [ 1.25000000e-03, -4.44773982e+01,  5.12260180e+00,\n",
       "         -5.12260180e+00,  4.44773982e+01, -1.25000000e-03],\n",
       "        [ 1.25000000e-03, -4.44773982e+01,  5.12260180e+00,\n",
       "         -5.12260180e+00,  4.44773982e+01, -1.25000000e-03],\n",
       "        [ 1.25000000e-03, -4.44773982e+01,  5.12260180e+00,\n",
       "         -5.12260180e+00,  4.44773982e+01, -1.25000000e-03],\n",
       "        [ 1.25000000e-03,  0.00000000e+00,  0.00000000e+00,\n",
       "          0.00000000e+00,  0.00000000e+00, -1.25000000e-03]])"
      ]
     },
     "execution_count": 12,
     "metadata": {},
     "output_type": "execute_result"
    }
   ],
   "source": [
    "RHS_T()"
   ]
  },
  {
   "cell_type": "code",
   "execution_count": null,
   "metadata": {},
   "outputs": [],
   "source": []
  },
  {
   "cell_type": "code",
   "execution_count": 13,
   "metadata": {},
   "outputs": [],
   "source": [
    "def eigens_P():\n",
    "    eigen_vec_P1  = np.zeros([cont.M+1,cont.M+1])\n",
    "    eigen_val_P1 = np.zeros([cont.M+1])\n",
    "    eigen_vec_P2  = np.zeros([cont.N+1,cont.N+1])\n",
    "    eigen_val_P2 = np.zeros([cont.N+1])\n",
    "    tempx = np.zeros([cont.M+1,cont.M+1])\n",
    "    tempy = np.zeros([cont.N+1,cont.N+1])\n",
    "  \n",
    "    D00_MM_DM0_0M   = D[0,0]*D[cont.M,cont.M]   - D[cont.M,0]*D[0,cont.M]\n",
    "    TD00_NN_TD0N_N0 = TD[0,0]*TD[cont.N,cont.N] - TD[0,cont.N]*TD[cont.N,0]\n",
    "    \n",
    "    for i in range(cont.M): # generate the coefficient matrix column-wise\n",
    "        tempx[i,1:cont.M] = -D2[i,0] * (D[cont.M,cont.M]*D[0,1:cont.M]-D[0,cont.M]*D[cont.M,1:cont.M])/D00_MM_DM0_0M \\\n",
    "                          + D2[i,cont.M] * (D[cont.M,0]*D[0,1:cont.M]-D[0,0]*D[cont.M,1:cont.M])/D00_MM_DM0_0M \n",
    "    tempx[1:cont.M,1:cont.N] = (D2[1:cont.M,1:cont.N] + tempx[1:cont.M,1:cont.N])\n",
    "    ##tempx[1:cont.M,1:cont.N] = cont.asp**2*(D2[1:cont.M,1:cont.N] + tempx[1:cont.M,1:cont.N])\n",
    "    \n",
    "    for j in range(cont.M): # generate the coefficient matrix column-wise\n",
    "        tempy[1:cont.N,j] = np.asarray(np.transpose(-(TD2[0,j] * (TD[cont.N,cont.N]*TD[1:cont.N,0]-TD[cont.N,0]*TD[1:cont.N,cont.N])/TD00_NN_TD0N_N0) \\\n",
    "                          + (TD2[cont.N,j] * (TD[0,cont.N]*TD[1:cont.N,0]-TD[0,0]*TD[1:cont.N,cont.N])/TD00_NN_TD0N_N0)))\n",
    "    tempy[1:cont.M,1:cont.N] = (TD2[1:cont.M,1:cont.N] + tempy[1:cont.M,1:cont.N])\n",
    "    ##tempy[1:cont.M,1:cont.N] = cont.asp**2*(TD2[1:cont.M,1:cont.N] + tempy[1:cont.M,1:cont.N])\n",
    "    \n",
    "    eigen_val_P1[1:cont.M], eigen_vec_P1[1:cont.M,1:cont.M] = np.linalg.eig(tempx[1:cont.M,1:cont.M])\n",
    "    eigen_val_P2[1:cont.N], eigen_vec_P2[1:cont.N,1:cont.N] = np.linalg.eig(tempy[1:cont.N,1:cont.N])\n",
    "    \n",
    "    return eigen_vec_P1, eigen_val_P1, eigen_vec_P2, eigen_val_P2"
   ]
  },
  {
   "cell_type": "code",
   "execution_count": 14,
   "metadata": {},
   "outputs": [
    {
     "data": {
      "text/plain": [
       "(array([[ 0.        ,  0.        ,  0.        ,  0.        ,  0.        ,\n",
       "          0.        ],\n",
       "        [ 0.        ,  0.28990341, -0.56825633, -0.63526566,  0.5       ,\n",
       "          0.        ],\n",
       "        [ 0.        , -0.64494652,  0.42081438, -0.31054394,  0.5       ,\n",
       "          0.        ],\n",
       "        [ 0.        ,  0.64494652,  0.42081438,  0.31054394,  0.5       ,\n",
       "          0.        ],\n",
       "        [ 0.        , -0.28990341, -0.56825633,  0.63526566,  0.5       ,\n",
       "          0.        ],\n",
       "        [ 0.        ,  0.        ,  0.        ,  0.        ,  0.        ,\n",
       "          0.        ]]),\n",
       " array([ 0.00000000e+00, -1.72615598e+01, -9.60000000e+00, -2.47177353e+00,\n",
       "        -6.71357067e-16,  0.00000000e+00]),\n",
       " array([[ 0.        ,  0.        ,  0.        ,  0.        ,  0.        ,\n",
       "          0.        ],\n",
       "        [ 0.        ,  0.31054394, -0.5       ,  0.42081438, -0.64494652,\n",
       "          0.        ],\n",
       "        [ 0.        , -0.63526566,  0.5       ,  0.56825633, -0.28990341,\n",
       "          0.        ],\n",
       "        [ 0.        ,  0.63526566,  0.5       ,  0.56825633,  0.28990341,\n",
       "          0.        ],\n",
       "        [ 0.        , -0.31054394, -0.5       ,  0.42081438,  0.64494652,\n",
       "          0.        ],\n",
       "        [ 0.        ,  0.        ,  0.        ,  0.        ,  0.        ,\n",
       "          0.        ]]),\n",
       " array([ 0.00000000e+00, -1.72615598e+01, -9.60000000e+00,  6.02888770e-17,\n",
       "        -2.47177353e+00,  0.00000000e+00]))"
      ]
     },
     "execution_count": 14,
     "metadata": {},
     "output_type": "execute_result"
    }
   ],
   "source": [
    "eigens_P()"
   ]
  },
  {
   "cell_type": "code",
   "execution_count": 15,
   "metadata": {},
   "outputs": [
    {
     "data": {
      "text/plain": [
       "(4, 4)"
      ]
     },
     "execution_count": 15,
     "metadata": {},
     "output_type": "execute_result"
    }
   ],
   "source": [
    "def RHS_P():\n",
    "    \n",
    "    RHSP1 = cont.asp*D*(-2*NL(U1,V1,U1) + NL(U0,V0,U0))\n",
    "    RHSP2 = cont.asp*((-2*NL(U1,V1,V1) + NL(U0,V0,V0) + cont.Ri*cont.Re*cont.Re*T2)*TD)\n",
    "\n",
    "    RHSP = np.empty_like(D2[1:-1,1:-1])    \n",
    "    for i in range(1,cont.M):\n",
    "        for j in range(1,cont.M):\n",
    "            RHSP[i-1,j-1] = RHSP1[i,j] + RHSP2[i,j] - cont.asp*(D2[i,0]*((RHSP1[0,j]*Dmm -  RHSP1[-1,j]*D0m)/(D00*Dmm - D0m*Dm0)) + D2[i,-1]*((RHSP1[0,j]*Dm0 -  RHSP1[-1,j]*D00)/(Dm0*D0m - D00*Dmm)) + TD2[0,j]*((RHSP2[i,0]*TDmm - RHSP2[i,-1]*TDm0)/(TD00*TDmm - TD0m*TDm0)) + TD2[-1,i]*(RHSP2[i,0]*TD0m - RHSP2[i,-1]*TD00)/(TD0m*TDm0 - TD00*TDmm))\n",
    "    \n",
    "    return RHSP\n",
    "\n",
    "RHSP = RHS_P()\n",
    "np.shape(RHSP)"
   ]
  },
  {
   "cell_type": "code",
   "execution_count": 16,
   "metadata": {},
   "outputs": [
    {
     "data": {
      "text/plain": [
       "matrix([[-3186516.65454706,   109445.52815968,  -277951.23281421,\n",
       "           177086.58447905],\n",
       "        [-2934402.0062119 ,   361560.17649484,   -25836.58447905,\n",
       "           429201.23281421],\n",
       "        [-3321798.76718579,   -25836.58447905,  -413233.34545294,\n",
       "            41804.47184032],\n",
       "        [  177086.58447905,  3473048.76718579,  3085652.0062119 ,\n",
       "          3540689.82350516]])"
      ]
     },
     "execution_count": 16,
     "metadata": {},
     "output_type": "execute_result"
    }
   ],
   "source": [
    "RHS_P()"
   ]
  },
  {
   "cell_type": "code",
   "execution_count": null,
   "metadata": {},
   "outputs": [],
   "source": []
  },
  {
   "cell_type": "code",
   "execution_count": 17,
   "metadata": {},
   "outputs": [],
   "source": [
    "def eigens_vel():\n",
    "    eigen_vec_vel1  = np.zeros([cont.M,cont.M+1])\n",
    "    eigen_val_vel1 = np.zeros([cont.M+1])\n",
    "    eigen_vec_vel2  = np.zeros([cont.N+1,cont.N+1])\n",
    "    eigen_val_vel2 = np.zeros([cont.N+1])\n",
    "    tempx = np.zeros([cont.M+1,cont.M+1])\n",
    "    tempy = np.zeros([cont.N+1,cont.N+1])\n",
    "\n",
    "    tempx[1:cont.M,1:cont.N]  = D2[1:cont.M,1:cont.N] \n",
    "    tempy[1:cont.N,1:cont.N]  =  TD2[1:cont.N,1:cont.N] \n",
    "\n",
    "    eigen_val_vel1[1:cont.M], eigen_vec_vel1[1:cont.M,1:cont.M] = np.linalg.eig(tempx[1:cont.M,1:cont.M])\n",
    "    eigen_val_vel2[1:cont.N], eigen_vec_vel2[1:cont.N,1:cont.N] = np.linalg.eig(tempy[1:cont.N,1:cont.N] )\n",
    "\n",
    "    return eigen_vec_vel1, eigen_val_vel1, eigen_vec_vel2, eigen_val_vel2"
   ]
  },
  {
   "cell_type": "code",
   "execution_count": 18,
   "metadata": {
    "scrolled": true
   },
   "outputs": [
    {
     "data": {
      "text/plain": [
       "(array([[ 0.        ,  0.        ,  0.        ,  0.        ,  0.        ,\n",
       "          0.        ],\n",
       "        [ 0.        ,  0.66055961, -0.69317541,  0.39694347,  0.22444111,\n",
       "          0.        ],\n",
       "        [ 0.        , -0.25231132,  0.13967049,  0.58518021,  0.67054171,\n",
       "          0.        ],\n",
       "        [ 0.        ,  0.25231132,  0.13967049, -0.58518021,  0.67054171,\n",
       "          0.        ],\n",
       "        [ 0.        , -0.66055961, -0.69317541, -0.39694347,  0.22444111,\n",
       "          0.        ]]),\n",
       " array([  0.        , -40.        , -31.13317829,  -9.6       ,\n",
       "         -2.46682171,   0.        ]),\n",
       " array([[ 0.        ,  0.        ,  0.        ,  0.        ,  0.        ,\n",
       "          0.        ],\n",
       "        [ 0.        ,  0.58518021, -0.67054171,  0.25231132,  0.13967049,\n",
       "          0.        ],\n",
       "        [ 0.        , -0.39694347,  0.22444111,  0.66055961,  0.69317541,\n",
       "          0.        ],\n",
       "        [ 0.        ,  0.39694347,  0.22444111, -0.66055961,  0.69317541,\n",
       "          0.        ],\n",
       "        [ 0.        , -0.58518021, -0.67054171, -0.25231132,  0.13967049,\n",
       "          0.        ],\n",
       "        [ 0.        ,  0.        ,  0.        ,  0.        ,  0.        ,\n",
       "          0.        ]]),\n",
       " array([  0.        , -40.        , -31.13317829,  -9.6       ,\n",
       "         -2.46682171,   0.        ]))"
      ]
     },
     "execution_count": 18,
     "metadata": {},
     "output_type": "execute_result"
    }
   ],
   "source": [
    "eigens_vel()"
   ]
  },
  {
   "cell_type": "code",
   "execution_count": 19,
   "metadata": {
    "scrolled": true
   },
   "outputs": [
    {
     "data": {
      "text/plain": [
       "((6, 6), (6, 6))"
      ]
     },
     "execution_count": 19,
     "metadata": {},
     "output_type": "execute_result"
    }
   ],
   "source": [
    "def RHS_U():\n",
    "\n",
    "    RHSU = cont.asp*D*P + 2*NL(U1,V1,U1) - NL(U0,V0,U0) + ((4*U1 - U0)/2*cont.dt) - cont.Ri*cont.Re*cont.Re*T2\n",
    "    RHSV = cont.asp*P*TD + NL(U1,V1,V1) - NL(U0,V0,V0) + ((4*V1 + V0)/2*cont.dt) - cont.Ri*cont.Re*cont.Re*T2\n",
    "    \n",
    "    for i in range(1,cont.M):\n",
    "        for j in range(1,cont.N):\n",
    "            RHSU[i,j] -= cont.asp*cont.asp*(D2[i,0]*U0j[0,j] + D2[i,-1]*Umj[0,j] + Ui0[i,0]*TD2[0,j] + Uin[i,0]*TD2[-1,j])    \n",
    "            RHSV[i,j] -= cont.asp*cont.asp*(D2[i,0]*V0j[0,j] + D2[i,-1]*Vmj[0,j] + Vi0[i,0]*TD2[0,j] + Vin[i,0]*TD2[-1,j])\n",
    "\n",
    "    return RHSU, RHSV\n",
    "\n",
    "RHSU, RHSV = RHS_U()\n",
    "np.shape(RHSU), np.shape(RHSV)"
   ]
  },
  {
   "cell_type": "code",
   "execution_count": null,
   "metadata": {},
   "outputs": [],
   "source": []
  },
  {
   "cell_type": "code",
   "execution_count": 20,
   "metadata": {},
   "outputs": [],
   "source": [
    "def eigens_phi():\n",
    "    eigen_vec_phi1  = np.zeros([cont.M+1,cont.M+1])\n",
    "    eigen_val_phi1 = np.zeros([cont.M+1])\n",
    "    eigen_vec_phi2  = np.zeros([cont.N+1,cont.N+1])\n",
    "    eigen_val_phi2 = np.zeros([cont.N+1])\n",
    "    tempx = np.zeros([cont.M+1,cont.M+1])\n",
    "    tempy = np.zeros([cont.N+1,cont.N+1])\n",
    "  \n",
    "    D00_MM_DM0_0M   = D[0,0]*D[cont.M,cont.M]   - D[cont.M,0]*D[0,cont.M]\n",
    "    TD00_NN_TD0N_N0 = TD[0,0]*TD[cont.N,cont.N] - TD[0,cont.N]*TD[cont.N,0]\n",
    "    \n",
    "    for i in range(cont.M): # generate the coefficient matrix column-wise\n",
    "        tempx[i,1:cont.M] = -D2[i,0] * (D[cont.M,cont.M]*D[0,1:cont.M]-D[0,cont.M]*D[cont.M,1:cont.M])/D00_MM_DM0_0M \\\n",
    "                          + D2[i,cont.M] * (D[cont.M,0]*D[0,1:cont.M]-D[0,0]*D[cont.M,1:cont.M])/D00_MM_DM0_0M \n",
    "    tempx[1:cont.M,1:cont.N] = (D2[1:cont.M,1:cont.N] + tempx[1:cont.M,1:cont.N])\n",
    "    ##tempx[1:cont.M,1:cont.N] = cont.asp**2*(D2[1:cont.M,1:cont.N] + tempx[1:cont.M,1:cont.N])\n",
    "    \n",
    "    for j in range(cont.M): # generate the coefficient matrix column-wise\n",
    "        tempy[1:cont.N,j] = np.asarray(np.transpose(-(TD2[0,j] * (TD[cont.N,cont.N]*TD[1:cont.N,0]-TD[cont.N,0]*TD[1:cont.N,cont.N])/TD00_NN_TD0N_N0) \\\n",
    "                          + (TD2[cont.N,j] * (TD[0,cont.N]*TD[1:cont.N,0]-TD[0,0]*TD[1:cont.N,cont.N])/TD00_NN_TD0N_N0)))\n",
    "    tempy[1:cont.M,1:cont.N] = (TD2[1:cont.M,1:cont.N] + tempy[1:cont.M,1:cont.N])\n",
    "    ##tempy[1:cont.M,1:cont.N] = cont.asp**2*(TD2[1:cont.M,1:cont.N] + tempy[1:cont.M,1:cont.N])\n",
    "    \n",
    "    eigen_val_phi1[1:cont.M], eigen_vec_phi1[1:cont.M,1:cont.M] = np.linalg.eig(tempx[1:cont.M,1:cont.M])\n",
    "    eigen_val_pih2[1:cont.N], eigen_vec_phi2[1:cont.N,1:cont.N] = np.linalg.eig(tempy[1:cont.N,1:cont.N])\n",
    "    \n",
    "    return eigen_vec_phi1, eigen_val_phi1, eigen_vec_phi2, eigen_val_phi2"
   ]
  },
  {
   "cell_type": "code",
   "execution_count": 21,
   "metadata": {},
   "outputs": [
    {
     "data": {
      "text/plain": [
       "(6, 6)"
      ]
     },
     "execution_count": 21,
     "metadata": {},
     "output_type": "execute_result"
    }
   ],
   "source": [
    "def RHS_Z(U, V):\n",
    "    \n",
    "    RHSZ = cont.asp*(D*U + V*TD)\n",
    "    RHSZ *= 0.25\n",
    "\n",
    "    return RHSZ\n",
    "\n",
    "RHSZ = RHS_Z(U1,V1)\n",
    "np.shape(RHSZ)"
   ]
  },
  {
   "cell_type": "code",
   "execution_count": 22,
   "metadata": {},
   "outputs": [
    {
     "data": {
      "text/plain": [
       "matrix([[-3.63797881e-12,  0.00000000e+00,  0.00000000e+00,\n",
       "          0.00000000e+00,  0.00000000e+00,  0.00000000e+00],\n",
       "        [ 2.36477504e-13,  0.00000000e+00,  0.00000000e+00,\n",
       "          0.00000000e+00,  0.00000000e+00,  0.00000000e+00],\n",
       "        [ 2.22821761e-13,  0.00000000e+00,  0.00000000e+00,\n",
       "          0.00000000e+00,  0.00000000e+00,  0.00000000e+00],\n",
       "        [ 4.17998969e-14,  0.00000000e+00,  0.00000000e+00,\n",
       "          0.00000000e+00,  0.00000000e+00,  0.00000000e+00],\n",
       "        [ 0.00000000e+00,  0.00000000e+00,  0.00000000e+00,\n",
       "          0.00000000e+00,  0.00000000e+00,  0.00000000e+00],\n",
       "        [-7.73070497e-12,  0.00000000e+00,  0.00000000e+00,\n",
       "          0.00000000e+00,  0.00000000e+00,  0.00000000e+00]])"
      ]
     },
     "execution_count": 22,
     "metadata": {},
     "output_type": "execute_result"
    }
   ],
   "source": [
    "RHS_Z(U0, V0)"
   ]
  },
  {
   "cell_type": "code",
   "execution_count": null,
   "metadata": {},
   "outputs": [],
   "source": []
  },
  {
   "cell_type": "code",
   "execution_count": null,
   "metadata": {},
   "outputs": [],
   "source": []
  },
  {
   "cell_type": "code",
   "execution_count": null,
   "metadata": {},
   "outputs": [],
   "source": []
  },
  {
   "cell_type": "code",
   "execution_count": null,
   "metadata": {},
   "outputs": [],
   "source": []
  },
  {
   "cell_type": "code",
   "execution_count": null,
   "metadata": {},
   "outputs": [],
   "source": []
  },
  {
   "cell_type": "code",
   "execution_count": null,
   "metadata": {},
   "outputs": [],
   "source": []
  },
  {
   "cell_type": "code",
   "execution_count": null,
   "metadata": {},
   "outputs": [],
   "source": []
  },
  {
   "cell_type": "code",
   "execution_count": null,
   "metadata": {},
   "outputs": [],
   "source": []
  },
  {
   "cell_type": "code",
   "execution_count": null,
   "metadata": {},
   "outputs": [],
   "source": []
  },
  {
   "cell_type": "code",
   "execution_count": null,
   "metadata": {},
   "outputs": [],
   "source": []
  },
  {
   "cell_type": "code",
   "execution_count": null,
   "metadata": {
    "scrolled": true
   },
   "outputs": [],
   "source": []
  },
  {
   "cell_type": "code",
   "execution_count": null,
   "metadata": {},
   "outputs": [],
   "source": []
  }
 ],
 "metadata": {
  "kernelspec": {
   "display_name": "Python 3",
   "language": "python",
   "name": "python3"
  },
  "language_info": {
   "codemirror_mode": {
    "name": "ipython",
    "version": 3
   },
   "file_extension": ".py",
   "mimetype": "text/x-python",
   "name": "python",
   "nbconvert_exporter": "python",
   "pygments_lexer": "ipython3",
   "version": "3.6.4"
  }
 },
 "nbformat": 4,
 "nbformat_minor": 2
}
