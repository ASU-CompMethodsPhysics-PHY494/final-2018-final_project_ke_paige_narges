{
 "cells": [
  {
   "cell_type": "code",
   "execution_count": 1,
   "metadata": {},
   "outputs": [],
   "source": [
    "## simulations\n",
    "import numpy as np\n",
    "import input_parameters as cont\n",
    "import differentiation_matrix as diff"
   ]
  },
  {
   "cell_type": "code",
   "execution_count": 2,
   "metadata": {},
   "outputs": [],
   "source": [
    "## initialize Chebyshev differentiation matrix\n",
    "x,y = diff.xy_grid()\n",
    "\n",
    "D = diff.D_matrix(x)\n",
    "TD = np.transpose(D)\n",
    "\n",
    "D2 = D*D\n",
    "TD2 = TD*TD"
   ]
  },
  {
   "cell_type": "code",
   "execution_count": 3,
   "metadata": {},
   "outputs": [],
   "source": [
    "## boundary conditions\n",
    "\n",
    "## D\n",
    "D00 = D[0,0]\n",
    "Dm0 = D[-1,0]\n",
    "D0m = D[0,-1]\n",
    "Dmm = D[-1,-1]\n",
    "\n",
    "D0k = D[0,1:-1]\n",
    "Dmk = D[-1,1:-1]\n",
    "\n",
    "\n",
    "\n",
    "\n",
    "## D transpose\n",
    "TD00 = TD[0,0]\n",
    "TD0m = TD[0,-1]\n",
    "TDm0 = TD[-1,0]\n",
    "TDmm = TD[-1,-1]\n",
    "\n",
    "TDk0 = TD[1:-1,0]\n",
    "TDkm = TD[1:-1,-1]"
   ]
  },
  {
   "cell_type": "code",
   "execution_count": 4,
   "metadata": {},
   "outputs": [],
   "source": [
    "## Call initialized U,V,T matrices\n",
    "U0 = diff.U_0()\n",
    "U1 = U0\n",
    "V0 = diff.V_0()\n",
    "V1 = V0\n",
    "T0 = diff.T_0()\n",
    "T1 = T0\n",
    "T2 = T1\n",
    "P = U1"
   ]
  },
  {
   "cell_type": "code",
   "execution_count": 5,
   "metadata": {
    "scrolled": true
   },
   "outputs": [
    {
     "data": {
      "text/plain": [
       "(matrix([[2750.,    0.,    0.,    0.,    0.,    0.],\n",
       "         [2750.,    0.,    0.,    0.,    0.,    0.],\n",
       "         [2750.,    0.,    0.,    0.,    0.,    0.],\n",
       "         [2750.,    0.,    0.,    0.,    0.,    0.],\n",
       "         [2750.,    0.,    0.,    0.,    0.,    0.],\n",
       "         [2750.,    0.,    0.,    0.,    0.,    0.]]),\n",
       " matrix([[ 0.5,  0. ,  0. ,  0. ,  0. , -0.5],\n",
       "         [ 0.5,  0. ,  0. ,  0. ,  0. , -0.5],\n",
       "         [ 0.5,  0. ,  0. ,  0. ,  0. , -0.5],\n",
       "         [ 0.5,  0. ,  0. ,  0. ,  0. , -0.5],\n",
       "         [ 0.5,  0. ,  0. ,  0. ,  0. , -0.5],\n",
       "         [ 0.5,  0. ,  0. ,  0. ,  0. , -0.5]]),\n",
       " matrix([[0., 0., 0., 0., 0., 0.],\n",
       "         [0., 0., 0., 0., 0., 0.],\n",
       "         [0., 0., 0., 0., 0., 0.],\n",
       "         [0., 0., 0., 0., 0., 0.],\n",
       "         [0., 0., 0., 0., 0., 0.],\n",
       "         [0., 0., 0., 0., 0., 0.]]))"
      ]
     },
     "execution_count": 5,
     "metadata": {},
     "output_type": "execute_result"
    }
   ],
   "source": [
    "U0, T0, V0"
   ]
  },
  {
   "cell_type": "code",
   "execution_count": 6,
   "metadata": {},
   "outputs": [],
   "source": [
    "## U orginial BC\n",
    "Ui0 = U0[0,:]\n",
    "Uin = U0[-1,:]\n",
    "U0j = U0[:,0]\n",
    "Umj = U0[:,-1]\n",
    "\n",
    "## V original BC\n",
    "Vi0 = V0[0,:]\n",
    "Vin = V0[-1,:]\n",
    "V0j = V0[:,0]\n",
    "Vmj = V0[:,-1]\n"
   ]
  },
  {
   "cell_type": "code",
   "execution_count": 7,
   "metadata": {},
   "outputs": [
    {
     "data": {
      "text/plain": [
       "(matrix([[2750.],\n",
       "         [2750.],\n",
       "         [2750.],\n",
       "         [2750.],\n",
       "         [2750.],\n",
       "         [2750.]]), matrix([[0.],\n",
       "         [0.],\n",
       "         [0.],\n",
       "         [0.],\n",
       "         [0.],\n",
       "         [0.]]), matrix([[2750.,    0.,    0.,    0.,    0.,    0.]]), matrix([[2750.,    0.,    0.,    0.,    0.,    0.]]))"
      ]
     },
     "execution_count": 7,
     "metadata": {},
     "output_type": "execute_result"
    }
   ],
   "source": [
    "U0j, Umj, Ui0, Uin"
   ]
  },
  {
   "cell_type": "code",
   "execution_count": 8,
   "metadata": {},
   "outputs": [
    {
     "data": {
      "text/plain": [
       "matrix([[-4.88498131e-12],\n",
       "        [ 0.00000000e+00],\n",
       "        [ 3.05311332e-13],\n",
       "        [-1.52655666e-13],\n",
       "        [ 6.10622664e-13],\n",
       "        [-1.46549439e-11]])"
      ]
     },
     "execution_count": 8,
     "metadata": {},
     "output_type": "execute_result"
    }
   ],
   "source": [
    "## NLT\n",
    "def NL(U,V,X):\n",
    "    NLX = np.asmatrix(np.asarray(U) * np.asarray(D*X)) +\\\n",
    "          np.asmatrix(np.asarray(V) * np.asarray(X*TD))\n",
    "    NLX  = NLX * 2\n",
    "    return NLX\n",
    "\n",
    "NL(U0,V0,T0)[:,0]"
   ]
  },
  {
   "cell_type": "code",
   "execution_count": 9,
   "metadata": {},
   "outputs": [],
   "source": [
    "def eigens_T():\n",
    "    eigen_vec_T1  = np.zeros([cont.M+1,cont.M+1])\n",
    "    eigen_val_T1 = np.zeros([cont.M+1])\n",
    "    eigen_vec_T2  = np.zeros([cont.N+1,cont.N+1])\n",
    "    eigen_val_T2 = np.zeros([cont.N+1])\n",
    "    tempx = np.zeros([cont.M+1,cont.M+1])\n",
    "    tempy = np.zeros([cont.N+1,cont.N+1])\n",
    "    D00_MM_DM0_0M   = D[0,0]*D[cont.M,cont.M]   - D[cont.M,0]*D[0,cont.M]\n",
    "    TD00_NN_TD0N_N0 = TD[0,0]*TD[cont.N,cont.N] - TD[0,cont.N]*TD[cont.N,cont.N] \n",
    "    for i in range(1,cont.M): # Neumann boundary conditions\n",
    "        tempx[i,1:cont.M] =-D2[i,0] * (D[cont.M,cont.M]*D[0,1:cont.M]-D[0,cont.M]*D[cont.M,1:cont.M])/D00_MM_DM0_0M \\\n",
    "                    +D2[i,cont.M] * (D[cont.M,0]*D[0,1:cont.M]-D[0,0]*D[cont.M,1:cont.M])/D00_MM_DM0_0M \n",
    "    tempx[1:cont.M,1:cont.M] = cont.asp**2 * (D2[1:cont.M,1:cont.M] - tempx[1:cont.M,1:cont.M])\n",
    "                       # Dirichlet boundary conditions \n",
    "    tempy[1:cont.N,1:cont.N] = cont.asp**2 * TD2[1:cont.N,1:cont.N] \n",
    "    eigen_val_T1[1:cont.M], eigen_vec_T1[1:cont.M,1:cont.M] = np.linalg.eig(tempx[1:cont.M,1:cont.M])\n",
    "    eigen_val_T2[1:cont.N]  , eigen_vec_T2[1:cont.N,1:cont.N] = np.linalg.eig(tempy[1:cont.N,1:cont.N] )\n",
    "\n",
    "    return eigen_vec_T1, eigen_val_T1, eigen_vec_T2, eigen_val_T2"
   ]
  },
  {
   "cell_type": "code",
   "execution_count": 10,
   "metadata": {},
   "outputs": [
    {
     "data": {
      "text/plain": [
       "(array([[ 0.        ,  0.        ,  0.        ,  0.        ,  0.        ,\n",
       "          0.        ],\n",
       "        [ 0.        , -0.68734786,  0.70085317,  0.32956835,  0.16996845,\n",
       "          0.        ],\n",
       "        [ 0.        ,  0.16599071, -0.09383407,  0.62560747,  0.68637506,\n",
       "          0.        ],\n",
       "        [ 0.        , -0.16599071, -0.09383407, -0.62560747,  0.68637506,\n",
       "          0.        ],\n",
       "        [ 0.        ,  0.68734786,  0.70085317, -0.32956835,  0.16996845,\n",
       "          0.        ],\n",
       "        [ 0.        ,  0.        ,  0.        ,  0.        ,  0.        ,\n",
       "          0.        ]]),\n",
       " array([   0.        , -275.78568081, -219.18769158,  -42.08098586,\n",
       "         -11.21230842,    0.        ]),\n",
       " array([[ 0.        ,  0.        ,  0.        ,  0.        ,  0.        ,\n",
       "          0.        ],\n",
       "        [ 0.        ,  0.58518021, -0.67054171,  0.25231132,  0.13967049,\n",
       "          0.        ],\n",
       "        [ 0.        , -0.39694347,  0.22444111,  0.66055961,  0.69317541,\n",
       "          0.        ],\n",
       "        [ 0.        ,  0.39694347,  0.22444111, -0.66055961,  0.69317541,\n",
       "          0.        ],\n",
       "        [ 0.        , -0.58518021, -0.67054171, -0.25231132,  0.13967049,\n",
       "          0.        ],\n",
       "        [ 0.        ,  0.        ,  0.        ,  0.        ,  0.        ,\n",
       "          0.        ]]),\n",
       " array([   0.        , -160.        , -124.53271317,  -38.4       ,\n",
       "          -9.86728683,    0.        ]))"
      ]
     },
     "execution_count": 10,
     "metadata": {},
     "output_type": "execute_result"
    }
   ],
   "source": [
    "eigens_T()"
   ]
  },
  {
   "cell_type": "code",
   "execution_count": 11,
   "metadata": {
    "scrolled": true
   },
   "outputs": [
    {
     "data": {
      "text/plain": [
       "(6, 6)"
      ]
     },
     "execution_count": 11,
     "metadata": {},
     "output_type": "execute_result"
    }
   ],
   "source": [
    "## right hand side of Temportal Scheme\n",
    "def RHS_T():\n",
    "    \n",
    "    RHST = NL(U1,V1,T1) - NL(U0,V0,T0) + ((4*T1 + T0)/2*cont.dt)\n",
    "    \n",
    "    for i in range(1,cont.M):\n",
    "        for j in range(1,cont.M):\n",
    "            RHST[i,j] -= cont.asp*cont.asp*(T1[i,0]*TD2[0,j] + T1[i,-1]*TD2[-1,j]) \n",
    "        \n",
    "    return RHST\n",
    "\n",
    "RHS_T()\n",
    "np.shape(RHS_T())"
   ]
  },
  {
   "cell_type": "code",
   "execution_count": 14,
   "metadata": {},
   "outputs": [],
   "source": [
    "def eigens_vel():\n",
    "    eigen_vec_vel1  = np.zeros([cont.M,cont.M+1])\n",
    "    eigen_val_vel1 = np.zeros([cont.M+1])\n",
    "    eigen_vec_vel2  = np.zeros([cont.N+1,cont.N+1])\n",
    "    eigen_val_vel2 = np.zeros([cont.N+1])\n",
    "    tempx = np.zeros([cont.M+1,cont.M+1])\n",
    "    tempy = np.zeros([cont.N+1,cont.N+1])\n",
    "\n",
    "    tempx[1:cont.M,1:cont.N]  = D2[1:cont.M,1:cont.N] \n",
    "    tempy[1:cont.N,1:cont.N]  =  TD2[1:cont.N,1:cont.N] \n",
    "\n",
    "    eigen_val_vel1[1:cont.M], eigen_vec_vel1[1:cont.M,1:cont.M] = np.linalg.eig(tempx[1:cont.M,1:cont.M])\n",
    "    eigen_val_vel2[1:cont.N], eigen_vec_vel2[1:cont.N,1:cont.N] = np.linalg.eig(tempy[1:cont.N,1:cont.N] )\n",
    "\n",
    "    return eigen_vec_vel1, eigen_val_vel1, eigen_vec_vel2, eigen_val_vel2"
   ]
  },
  {
   "cell_type": "code",
   "execution_count": null,
   "metadata": {
    "scrolled": true
   },
   "outputs": [],
   "source": [
    "eigens_vel()"
   ]
  },
  {
   "cell_type": "code",
   "execution_count": null,
   "metadata": {},
   "outputs": [],
   "source": []
  }
 ],
 "metadata": {
  "kernelspec": {
   "display_name": "Python 3",
   "language": "python",
   "name": "python3"
  },
  "language_info": {
   "codemirror_mode": {
    "name": "ipython",
    "version": 3
   },
   "file_extension": ".py",
   "mimetype": "text/x-python",
   "name": "python",
   "nbconvert_exporter": "python",
   "pygments_lexer": "ipython3",
   "version": "3.6.4"
  }
 },
 "nbformat": 4,
 "nbformat_minor": 2
}
