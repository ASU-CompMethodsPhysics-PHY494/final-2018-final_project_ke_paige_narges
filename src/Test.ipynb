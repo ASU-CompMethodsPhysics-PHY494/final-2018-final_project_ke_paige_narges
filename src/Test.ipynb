{
 "cells": [
  {
   "cell_type": "code",
   "execution_count": 1,
   "metadata": {
    "collapsed": true
   },
   "outputs": [],
   "source": [
    "## simulations\n",
    "import numpy as np\n",
    "import input_parameters as cont\n",
    "import differentiation_matrix as diff"
   ]
  },
  {
   "cell_type": "code",
   "execution_count": 2,
   "metadata": {
    "collapsed": true
   },
   "outputs": [],
   "source": [
    "## initialize Chebyshev differentiation matrix\n",
    "x,y = diff.xy_grid()\n",
    "\n",
    "D = diff.D_matrix(x)\n",
    "TD = np.transpose(D)\n",
    "\n",
    "D2 = D*D\n",
    "TD2 = TD*TD"
   ]
  },
  {
   "cell_type": "code",
   "execution_count": 3,
   "metadata": {
    "collapsed": true
   },
   "outputs": [],
   "source": [
    "## boundary conditions\n",
    "\n",
    "## D\n",
    "D00 = D[0,0]\n",
    "Dm0 = D[-1,0]\n",
    "D0m = D[0,-1]\n",
    "Dmm = D[-1,-1]\n",
    "\n",
    "D0k = D[0,1:-1]\n",
    "Dmk = D[-1,1:-1]\n",
    "\n",
    "\n",
    "\n",
    "\n",
    "## D transpose\n",
    "TD00 = TD[0,0]\n",
    "TD0m = TD[0,-1]\n",
    "TDm0 = TD[-1,0]\n",
    "TDmm = TD[-1,-1]\n",
    "\n",
    "TDk0 = TD[1:-1,0]\n",
    "TDkm = TD[1:-1,-1]"
   ]
  },
  {
   "cell_type": "code",
   "execution_count": 4,
   "metadata": {},
   "outputs": [],
   "source": [
    "## Call initialized U,V,T matrices\n",
    "## U0,U1,U2 at t = 0\n",
    "U0 = diff.U_0(x)\n",
    "U1 = U0\n",
    "U2 = U0\n",
    "\n",
    "## V0,V1,V2 at t = 0\n",
    "V0 = diff.V_0()\n",
    "V1 = V0\n",
    "V2 = V0\n",
    "\n",
    "## T0,T1,T2 at t = 0\n",
    "T0 = np.asmatrix(np.zeros([cont.M+1,cont.M+1]))\n",
    "T1 = diff.T_0()\n",
    "T2 = T0\n",
    "\n",
    "U0[:,0] = 0\n",
    "for j in range(1,cont.M): \n",
    "    T1[:,j] = y[j]\n",
    "    \n",
    "Uexact = diff.U_0(x)\n",
    "Vexact = np.asmatrix(np.zeros([cont.M+1,cont.N+1]))   "
   ]
  },
  {
   "cell_type": "code",
   "execution_count": 5,
   "metadata": {
    "scrolled": false
   },
   "outputs": [
    {
     "data": {
      "text/plain": [
       "(matrix([[ 0.,  0.,  0.,  0.,  0.,  0.,  0.],\n",
       "         [ 0.,  0.,  0.,  0.,  0.,  0.,  0.],\n",
       "         [ 0.,  0.,  0.,  0.,  0.,  0.,  0.],\n",
       "         [ 0.,  0.,  0.,  0.,  0.,  0.,  0.],\n",
       "         [ 0.,  0.,  0.,  0.,  0.,  0.,  0.],\n",
       "         [ 0.,  0.,  0.,  0.,  0.,  0.,  0.],\n",
       "         [ 0.,  0.,  0.,  0.,  0.,  0.,  0.]]),\n",
       " matrix([[ 0.,  0.,  0.,  0.,  0.,  0.,  0.],\n",
       "         [ 0.,  0.,  0.,  0.,  0.,  0.,  0.],\n",
       "         [ 0.,  0.,  0.,  0.,  0.,  0.,  0.],\n",
       "         [ 0.,  0.,  0.,  0.,  0.,  0.,  0.],\n",
       "         [ 0.,  0.,  0.,  0.,  0.,  0.,  0.],\n",
       "         [ 0.,  0.,  0.,  0.,  0.,  0.,  0.],\n",
       "         [ 0.,  0.,  0.,  0.,  0.,  0.,  0.]]),\n",
       " matrix([[ 0.,  0.,  0.,  0.,  0.,  0.,  0.],\n",
       "         [ 0.,  0.,  0.,  0.,  0.,  0.,  0.],\n",
       "         [ 0.,  0.,  0.,  0.,  0.,  0.,  0.],\n",
       "         [ 0.,  0.,  0.,  0.,  0.,  0.,  0.],\n",
       "         [ 0.,  0.,  0.,  0.,  0.,  0.,  0.],\n",
       "         [ 0.,  0.,  0.,  0.,  0.,  0.,  0.],\n",
       "         [ 0.,  0.,  0.,  0.,  0.,  0.,  0.]]))"
      ]
     },
     "execution_count": 5,
     "metadata": {},
     "output_type": "execute_result"
    }
   ],
   "source": [
    "U0, T0, V0"
   ]
  },
  {
   "cell_type": "code",
   "execution_count": 6,
   "metadata": {},
   "outputs": [
    {
     "data": {
      "text/plain": [
       "(matrix([[ 0.,  0.,  0.,  0.,  0.,  0.,  0.],\n",
       "         [ 0.,  0.,  0.,  0.,  0.,  0.,  0.],\n",
       "         [ 0.,  0.,  0.,  0.,  0.,  0.,  0.],\n",
       "         [ 0.,  0.,  0.,  0.,  0.,  0.,  0.],\n",
       "         [ 0.,  0.,  0.,  0.,  0.,  0.,  0.],\n",
       "         [ 0.,  0.,  0.,  0.,  0.,  0.,  0.],\n",
       "         [ 0.,  0.,  0.,  0.,  0.,  0.,  0.]]),\n",
       " matrix([[  5.00000000e-01,   4.33012702e-01,   2.50000000e-01,\n",
       "            3.06161700e-17,  -2.50000000e-01,  -4.33012702e-01,\n",
       "           -5.00000000e-01],\n",
       "         [  5.00000000e-01,   4.33012702e-01,   2.50000000e-01,\n",
       "            3.06161700e-17,  -2.50000000e-01,  -4.33012702e-01,\n",
       "           -5.00000000e-01],\n",
       "         [  5.00000000e-01,   4.33012702e-01,   2.50000000e-01,\n",
       "            3.06161700e-17,  -2.50000000e-01,  -4.33012702e-01,\n",
       "           -5.00000000e-01],\n",
       "         [  5.00000000e-01,   4.33012702e-01,   2.50000000e-01,\n",
       "            3.06161700e-17,  -2.50000000e-01,  -4.33012702e-01,\n",
       "           -5.00000000e-01],\n",
       "         [  5.00000000e-01,   4.33012702e-01,   2.50000000e-01,\n",
       "            3.06161700e-17,  -2.50000000e-01,  -4.33012702e-01,\n",
       "           -5.00000000e-01],\n",
       "         [  5.00000000e-01,   4.33012702e-01,   2.50000000e-01,\n",
       "            3.06161700e-17,  -2.50000000e-01,  -4.33012702e-01,\n",
       "           -5.00000000e-01],\n",
       "         [  5.00000000e-01,   4.33012702e-01,   2.50000000e-01,\n",
       "            3.06161700e-17,  -2.50000000e-01,  -4.33012702e-01,\n",
       "           -5.00000000e-01]]),\n",
       " matrix([[ 0.,  0.,  0.,  0.,  0.,  0.,  0.],\n",
       "         [ 0.,  0.,  0.,  0.,  0.,  0.,  0.],\n",
       "         [ 0.,  0.,  0.,  0.,  0.,  0.,  0.],\n",
       "         [ 0.,  0.,  0.,  0.,  0.,  0.,  0.],\n",
       "         [ 0.,  0.,  0.,  0.,  0.,  0.,  0.],\n",
       "         [ 0.,  0.,  0.,  0.,  0.,  0.,  0.],\n",
       "         [ 0.,  0.,  0.,  0.,  0.,  0.,  0.]]))"
      ]
     },
     "execution_count": 6,
     "metadata": {},
     "output_type": "execute_result"
    }
   ],
   "source": [
    "U1, T1, V1"
   ]
  },
  {
   "cell_type": "code",
   "execution_count": 7,
   "metadata": {
    "collapsed": true
   },
   "outputs": [],
   "source": [
    "## U orginial BC\n",
    "Ui0 = U0[:,0]\n",
    "Uin = U0[:,-1]\n",
    "U0j = U0[0,:]\n",
    "Umj = U0[-1,:]\n",
    "\n",
    "## V original BC\n",
    "Vi0 = V0[:,:]\n",
    "Vin = V0[:,-1]\n",
    "V0j = V0[0,:]\n",
    "Vmj = V0[-1,:]"
   ]
  },
  {
   "cell_type": "code",
   "execution_count": 8,
   "metadata": {},
   "outputs": [
    {
     "data": {
      "text/plain": [
       "(matrix([[ 0.,  0.,  0.,  0.,  0.,  0.,  0.]]),\n",
       " matrix([[ 0.,  0.,  0.,  0.,  0.,  0.,  0.]]),\n",
       " matrix([[ 0.],\n",
       "         [ 0.],\n",
       "         [ 0.],\n",
       "         [ 0.],\n",
       "         [ 0.],\n",
       "         [ 0.],\n",
       "         [ 0.]]),\n",
       " matrix([[ 0.],\n",
       "         [ 0.],\n",
       "         [ 0.],\n",
       "         [ 0.],\n",
       "         [ 0.],\n",
       "         [ 0.],\n",
       "         [ 0.]]))"
      ]
     },
     "execution_count": 8,
     "metadata": {},
     "output_type": "execute_result"
    }
   ],
   "source": [
    "U0j, Umj, Ui0, Uin"
   ]
  },
  {
   "cell_type": "code",
   "execution_count": 9,
   "metadata": {
    "scrolled": true
   },
   "outputs": [
    {
     "data": {
      "text/plain": [
       "matrix([[ 0.],\n",
       "        [ 0.],\n",
       "        [ 0.],\n",
       "        [ 0.],\n",
       "        [ 0.],\n",
       "        [ 0.],\n",
       "        [ 0.]])"
      ]
     },
     "execution_count": 9,
     "metadata": {},
     "output_type": "execute_result"
    }
   ],
   "source": [
    "## NLT\n",
    "def NL(U,V,X):\n",
    "    NLX = np.asmatrix(np.asarray(U) * np.asarray(D*X)) +\\\n",
    "          np.asmatrix(np.asarray(V) * np.asarray(X*TD))\n",
    "    NLX  = NLX * 2\n",
    "    return NLX\n",
    "\n",
    "NL(U0,V0,T0)[:,0]"
   ]
  },
  {
   "cell_type": "code",
   "execution_count": 10,
   "metadata": {},
   "outputs": [],
   "source": [
    "def LU(U,V):\n",
    "    LU = (U*TD2) - (D*V)*TD\n",
    "    LU = LU * 4\n",
    "    return LU\n",
    "\n",
    "def LV(U,V):\n",
    "    LV = (D2*V) - (D)*(U*TD)\n",
    "    LV = LV * 4\n",
    "    return LV\n",
    "\n",
    "#LU(U1,V1), LV(U1,V1)"
   ]
  },
  {
   "cell_type": "code",
   "execution_count": 11,
   "metadata": {},
   "outputs": [],
   "source": [
    "def eigens_T():\n",
    "    eigen_vec_T1  = np.zeros([cont.M+1,cont.M+1])\n",
    "    eigen_val_T1 = np.zeros([cont.M+1])\n",
    "    eigen_vec_T2  = np.zeros([cont.N+1,cont.N+1])\n",
    "    eigen_val_T2 = np.zeros([cont.N+1])\n",
    "    tempx = np.zeros([cont.M+1,cont.M+1])\n",
    "    tempy = np.zeros([cont.N+1,cont.N+1])\n",
    "    \n",
    "    D00_MM_DM0_0M   = D[0,0]*D[cont.M,cont.M]   - D[cont.M,0]*D[0,cont.M]\n",
    "    TD00_NN_TD0N_N0 = TD[0,0]*TD[cont.N,cont.N] - TD[0,cont.N]*TD[cont.N,cont.N] \n",
    "    \n",
    "    for i in range(1,cont.M): # Neumann boundary conditions\n",
    "        tempx[i,1:cont.M] =-D2[i,0] * (D[cont.M,cont.M]*D[0,1:cont.M]-D[0,cont.M]*D[cont.M,1:cont.M])/D00_MM_DM0_0M \\\n",
    "                           +D2[i,cont.M] * (D[cont.M,0]*D[0,1:cont.M]-D[0,0]*D[cont.M,1:cont.M])/D00_MM_DM0_0M \n",
    "    tempx[1:cont.M,1:cont.M] = cont.asp**2 * (D2[1:cont.M,1:cont.M] + tempx[1:cont.M,1:cont.M])\n",
    "                       # Dirichlet boundary conditions \n",
    "   \n",
    "    tempy[1:cont.N,1:cont.N] = cont.asp**2 * TD2[1:cont.N,1:cont.N] \n",
    "    \n",
    "    eigen_val_T1[1:cont.M], eigen_vec_T1[1:cont.M,1:cont.M] = np.linalg.eig(tempx[1:cont.M,1:cont.M])\n",
    "    eigen_val_T2[1:cont.N]  , eigen_vec_T2[1:cont.N,1:cont.N] = np.linalg.eig(tempy[1:cont.N,1:cont.N] )\n",
    "\n",
    "    return eigen_vec_T1, eigen_val_T1, eigen_vec_T2, eigen_val_T2"
   ]
  },
  {
   "cell_type": "code",
   "execution_count": 12,
   "metadata": {
    "scrolled": true
   },
   "outputs": [
    {
     "data": {
      "text/plain": [
       "(array([[  0.00000000e+00,   0.00000000e+00,   0.00000000e+00,\n",
       "           0.00000000e+00,   0.00000000e+00,   0.00000000e+00,\n",
       "           0.00000000e+00],\n",
       "        [  0.00000000e+00,  -2.48151635e-01,   4.93291351e-01,\n",
       "          -5.59384051e-01,  -4.47213595e-01,  -5.72984105e-01,\n",
       "           0.00000000e+00],\n",
       "        [  0.00000000e+00,   5.57644495e-01,  -5.06619821e-01,\n",
       "          -6.65576838e-03,  -4.47213595e-01,  -4.14353974e-01,\n",
       "           0.00000000e+00],\n",
       "        [  0.00000000e+00,  -5.04882924e-01,  -1.79361931e-15,\n",
       "           6.11629273e-01,  -4.47213595e-01,  -1.29169494e-15,\n",
       "           0.00000000e+00],\n",
       "        [  0.00000000e+00,   5.57644495e-01,   5.06619821e-01,\n",
       "          -6.65576838e-03,  -4.47213595e-01,   4.14353974e-01,\n",
       "           0.00000000e+00],\n",
       "        [  0.00000000e+00,  -2.48151635e-01,  -4.93291351e-01,\n",
       "          -5.59384051e-01,  -4.47213595e-01,   5.72984105e-01,\n",
       "           0.00000000e+00],\n",
       "        [  0.00000000e+00,   0.00000000e+00,   0.00000000e+00,\n",
       "           0.00000000e+00,   0.00000000e+00,   0.00000000e+00,\n",
       "           0.00000000e+00]]),\n",
       " array([  0.00000000e+00,  -1.21889878e+02,  -8.88660317e+01,\n",
       "         -3.97943323e+01,  -1.81393178e-14,  -9.87682548e+00,\n",
       "          0.00000000e+00]),\n",
       " array([[  0.00000000e+00,   0.00000000e+00,   0.00000000e+00,\n",
       "           0.00000000e+00,   0.00000000e+00,   0.00000000e+00,\n",
       "           0.00000000e+00],\n",
       "        [  0.00000000e+00,  -5.98146887e-01,   6.53173018e-01,\n",
       "           1.92089349e-01,   1.58744673e-01,   7.63304516e-02,\n",
       "           0.00000000e+00],\n",
       "        [  0.00000000e+00,   3.39956273e-01,  -2.70859758e-01,\n",
       "           4.51997088e-01,   6.89057421e-01,   4.63154226e-01,\n",
       "           0.00000000e+00],\n",
       "        [  0.00000000e+00,  -2.30868075e-01,  -2.16378608e-15,\n",
       "          -7.19444667e-01,   3.74696886e-16,   7.47879435e-01,\n",
       "           0.00000000e+00],\n",
       "        [  0.00000000e+00,   3.39956273e-01,   2.70859758e-01,\n",
       "           4.51997088e-01,  -6.89057421e-01,   4.63154226e-01,\n",
       "           0.00000000e+00],\n",
       "        [  0.00000000e+00,  -5.98146887e-01,  -6.53173018e-01,\n",
       "           1.92089349e-01,  -1.58744673e-01,   7.63304516e-02,\n",
       "           0.00000000e+00],\n",
       "        [  0.00000000e+00,   0.00000000e+00,   0.00000000e+00,\n",
       "           0.00000000e+00,   0.00000000e+00,   0.00000000e+00,\n",
       "           0.00000000e+00]]),\n",
       " array([   0.        , -298.79352021, -259.15338817,  -83.33679638,\n",
       "         -39.5132785 ,   -9.86968341,    0.        ]))"
      ]
     },
     "execution_count": 12,
     "metadata": {},
     "output_type": "execute_result"
    }
   ],
   "source": [
    "eigens_T()"
   ]
  },
  {
   "cell_type": "code",
   "execution_count": 13,
   "metadata": {},
   "outputs": [
    {
     "data": {
      "text/plain": [
       "(7, 7)"
      ]
     },
     "execution_count": 13,
     "metadata": {},
     "output_type": "execute_result"
    }
   ],
   "source": [
    "def RHS_T():\n",
    "    \n",
    "    RHST = cont.Pr*(2*NL(U1,V1,T1) - NL(U0,V0,T0) - ( (4*T1 - T0)/(2*cont.dt) ) )\n",
    "    \n",
    "    for j in range(1,cont.M):\n",
    "        for i in range(1,cont.N):\n",
    "            RHST[i,j] = RHST[i,j] - cont.asp*cont.asp*(T1[i,0]*TD2[0,j] + T1[i,-1]*TD2[-1,j]) \n",
    "            ##RHST[i,j] = RHST[i,j] - (T1[i,0]*TD2[0,j] + T1[i,-1]*TD2[-1,j]) \n",
    "        \n",
    "    return RHST\n",
    "\n",
    "RHS_T()\n",
    "np.shape(RHS_T())"
   ]
  },
  {
   "cell_type": "code",
   "execution_count": 14,
   "metadata": {
    "scrolled": true
   },
   "outputs": [
    {
     "data": {
      "text/plain": [
       "matrix([[ -1.00000000e+03,  -8.66025404e+02,  -5.00000000e+02,\n",
       "          -6.12323400e-14,   5.00000000e+02,   8.66025404e+02,\n",
       "           1.00000000e+03],\n",
       "        [ -1.00000000e+03,  -9.49163843e+02,  -4.94666667e+02,\n",
       "          -5.10182881e-14,   4.94666667e+02,   9.49163843e+02,\n",
       "           1.00000000e+03],\n",
       "        [ -1.00000000e+03,  -9.49163843e+02,  -4.94666667e+02,\n",
       "          -5.10182881e-14,   4.94666667e+02,   9.49163843e+02,\n",
       "           1.00000000e+03],\n",
       "        [ -1.00000000e+03,  -9.49163843e+02,  -4.94666667e+02,\n",
       "          -5.10182881e-14,   4.94666667e+02,   9.49163843e+02,\n",
       "           1.00000000e+03],\n",
       "        [ -1.00000000e+03,  -9.49163843e+02,  -4.94666667e+02,\n",
       "          -5.10182881e-14,   4.94666667e+02,   9.49163843e+02,\n",
       "           1.00000000e+03],\n",
       "        [ -1.00000000e+03,  -9.49163843e+02,  -4.94666667e+02,\n",
       "          -5.10182881e-14,   4.94666667e+02,   9.49163843e+02,\n",
       "           1.00000000e+03],\n",
       "        [ -1.00000000e+03,  -8.66025404e+02,  -5.00000000e+02,\n",
       "          -6.12323400e-14,   5.00000000e+02,   8.66025404e+02,\n",
       "           1.00000000e+03]])"
      ]
     },
     "execution_count": 14,
     "metadata": {},
     "output_type": "execute_result"
    }
   ],
   "source": [
    "RHS_T()"
   ]
  },
  {
   "cell_type": "code",
   "execution_count": 15,
   "metadata": {
    "collapsed": true
   },
   "outputs": [],
   "source": [
    "def Helmholtz_solver(RHS,sigma,eig_val1,eig_vec1,eig_val2,eig_vec2):\n",
    "    tol = 1e-10\n",
    "    tempX = np.zeros([cont.M+1,cont.N+1])\n",
    "    tempH = np.zeros([cont.M+1,cont.N+1])\n",
    "    X = np.zeros([cont.M+1,cont.N+1])\n",
    "    \n",
    "    tempH[1:cont.M,1:cont.M] = np.linalg.solve(eig_vec1[1:cont.M,1:cont.M],RHS[1:cont.M,1:cont.M])\n",
    "    tempH[1:cont.M,1:cont.M] = np.matmul(tempH[1:cont.M,1:cont.M],eig_vec2[1:cont.M,1:cont.M])\n",
    "    \n",
    "    for j in range(1,cont.N):\n",
    "        for i in range(1,cont.M):\n",
    "            if abs(eig_val1[i])<tol and abs(eig_val2[j])<tol and abs(sigma)<tol:\n",
    "                X[i,j] = 0.0\n",
    "            else:\n",
    "                X[i,j] = tempH[i,j]/(eig_val1[i]+eig_val2[j]-sigma)\n",
    " \n",
    "    tempX[1:cont.M,1:cont.N] = np.linalg.solve(np.transpose(eig_vec2[1:cont.M,1:cont.N]),np.transpose(X[1:cont.M,1:cont.N]))\n",
    "    tempX[1:cont.M,1:cont.N] = np.transpose(tempX[1:cont.M,1:cont.N])\n",
    "    X[1:cont.M,1:cont.N] = np.matmul(eig_vec1[1:cont.M,1:cont.N],tempX[1:cont.M,1:cont.N])\n",
    "  \n",
    "    return X"
   ]
  },
  {
   "cell_type": "code",
   "execution_count": 16,
   "metadata": {},
   "outputs": [
    {
     "data": {
      "text/plain": [
       "(array([[  0.00000000e+00,   0.00000000e+00,   0.00000000e+00,\n",
       "           0.00000000e+00,   0.00000000e+00,   0.00000000e+00,\n",
       "           0.00000000e+00],\n",
       "        [  0.00000000e+00,  -2.48151635e-01,   4.93291351e-01,\n",
       "          -5.59384051e-01,  -4.47213595e-01,  -5.72984105e-01,\n",
       "           0.00000000e+00],\n",
       "        [  0.00000000e+00,   5.57644495e-01,  -5.06619821e-01,\n",
       "          -6.65576838e-03,  -4.47213595e-01,  -4.14353974e-01,\n",
       "           0.00000000e+00],\n",
       "        [  0.00000000e+00,  -5.04882924e-01,  -1.79361931e-15,\n",
       "           6.11629273e-01,  -4.47213595e-01,  -1.29169494e-15,\n",
       "           0.00000000e+00],\n",
       "        [  0.00000000e+00,   5.57644495e-01,   5.06619821e-01,\n",
       "          -6.65576838e-03,  -4.47213595e-01,   4.14353974e-01,\n",
       "           0.00000000e+00],\n",
       "        [  0.00000000e+00,  -2.48151635e-01,  -4.93291351e-01,\n",
       "          -5.59384051e-01,  -4.47213595e-01,   5.72984105e-01,\n",
       "           0.00000000e+00],\n",
       "        [  0.00000000e+00,   0.00000000e+00,   0.00000000e+00,\n",
       "           0.00000000e+00,   0.00000000e+00,   0.00000000e+00,\n",
       "           0.00000000e+00]]),\n",
       " array([  0.00000000e+00,  -1.21889878e+02,  -8.88660317e+01,\n",
       "         -3.97943323e+01,  -1.81393178e-14,  -9.87682548e+00,\n",
       "          0.00000000e+00]),\n",
       " array([[  0.00000000e+00,   0.00000000e+00,   0.00000000e+00,\n",
       "           0.00000000e+00,   0.00000000e+00,   0.00000000e+00,\n",
       "           0.00000000e+00],\n",
       "        [  0.00000000e+00,  -5.98146887e-01,   6.53173018e-01,\n",
       "           1.92089349e-01,   1.58744673e-01,   7.63304516e-02,\n",
       "           0.00000000e+00],\n",
       "        [  0.00000000e+00,   3.39956273e-01,  -2.70859758e-01,\n",
       "           4.51997088e-01,   6.89057421e-01,   4.63154226e-01,\n",
       "           0.00000000e+00],\n",
       "        [  0.00000000e+00,  -2.30868075e-01,  -2.16378608e-15,\n",
       "          -7.19444667e-01,   3.74696886e-16,   7.47879435e-01,\n",
       "           0.00000000e+00],\n",
       "        [  0.00000000e+00,   3.39956273e-01,   2.70859758e-01,\n",
       "           4.51997088e-01,  -6.89057421e-01,   4.63154226e-01,\n",
       "           0.00000000e+00],\n",
       "        [  0.00000000e+00,  -5.98146887e-01,  -6.53173018e-01,\n",
       "           1.92089349e-01,  -1.58744673e-01,   7.63304516e-02,\n",
       "           0.00000000e+00],\n",
       "        [  0.00000000e+00,   0.00000000e+00,   0.00000000e+00,\n",
       "           0.00000000e+00,   0.00000000e+00,   0.00000000e+00,\n",
       "           0.00000000e+00]]),\n",
       " array([   0.        , -298.79352021, -259.15338817,  -83.33679638,\n",
       "         -39.5132785 ,   -9.86968341,    0.        ]))"
      ]
     },
     "execution_count": 16,
     "metadata": {},
     "output_type": "execute_result"
    }
   ],
   "source": [
    "RHS = RHS_T()\n",
    "sigma = 3.0*cont.Pr/(2.0*cont.dt)\n",
    "eig_vec1, eig_val1, eig_vec2, eig_val2 = eigens_T()\n",
    "eig_vec1, eig_val1, eig_vec2, eig_val2"
   ]
  },
  {
   "cell_type": "code",
   "execution_count": null,
   "metadata": {
    "collapsed": true
   },
   "outputs": [],
   "source": []
  },
  {
   "cell_type": "code",
   "execution_count": 17,
   "metadata": {
    "collapsed": true
   },
   "outputs": [],
   "source": [
    "c1 = D[0,0]*D[-1,-1] - D[-1,0]*D[0,-1]\n",
    "c2 = -c1\n",
    "c3 = TD[0,0]*D[-1,-1] - TD[0,-1]*TD[-1,0]\n",
    "c4 = -c3"
   ]
  },
  {
   "cell_type": "code",
   "execution_count": 18,
   "metadata": {},
   "outputs": [
    {
     "data": {
      "text/plain": [
       "(-147.77777777777777,\n",
       " 147.77777777777777,\n",
       " -147.77777777777777,\n",
       " 147.77777777777777)"
      ]
     },
     "execution_count": 18,
     "metadata": {},
     "output_type": "execute_result"
    }
   ],
   "source": [
    "c1, c2, c3, c4"
   ]
  },
  {
   "cell_type": "code",
   "execution_count": 19,
   "metadata": {},
   "outputs": [],
   "source": [
    "def T():\n",
    "    Tnew = np.zeros([cont.M+1,cont.N+1])\n",
    "    RHS = RHS_T()\n",
    "    sigma = 3.0*cont.Pr/(2.0*cont.dt)\n",
    "    eig_vec1, eig_val1, eig_vec2, eig_val2 = eigens_T()\n",
    "    Tnew=Helmholtz_solver(RHS,sigma,eig_val1,eig_vec1,eig_val2,eig_vec2)\n",
    "    for j in range(1,cont.M):      # c1 and c2 need to be defined\n",
    "        Tnew[0,j] = np.dot(D[cont.M,0]*D[0,1:cont.M]-D[0,0]*D[cont.M,1:cont.M],Tnew[1:cont.M,j])/c1\n",
    "        Tnew[-1,j]= np.dot(D[cont.M,cont.M]*D[0,1:cont.M]-D[0,cont.M]*D[cont.M,1:cont.M],Tnew[1:cont.M,j])/c2\n",
    "  # update top and bottom boundaries    \n",
    "    Tnew[:,0] = 0.5\n",
    "    Tnew[:,-1] = -0.5\n",
    "    return Tnew"
   ]
  },
  {
   "cell_type": "code",
   "execution_count": 20,
   "metadata": {},
   "outputs": [
    {
     "data": {
      "text/plain": [
       "matrix([[  5.00000000e-01,   5.61455357e-01,   3.34002895e-01,\n",
       "           3.97872599e-17,  -3.34002895e-01,  -5.61455357e-01,\n",
       "          -5.00000000e-01],\n",
       "        [  5.00000000e-01,   5.61455357e-01,   3.34002895e-01,\n",
       "           3.93777105e-17,  -3.34002895e-01,  -5.61455357e-01,\n",
       "          -5.00000000e-01],\n",
       "        [  5.00000000e-01,   5.61455357e-01,   3.34002895e-01,\n",
       "           3.79670574e-17,  -3.34002895e-01,  -5.61455357e-01,\n",
       "          -5.00000000e-01],\n",
       "        [  5.00000000e-01,   5.61455357e-01,   3.34002895e-01,\n",
       "           3.82097821e-17,  -3.34002895e-01,  -5.61455357e-01,\n",
       "          -5.00000000e-01],\n",
       "        [  5.00000000e-01,   5.61455357e-01,   3.34002895e-01,\n",
       "           3.79670574e-17,  -3.34002895e-01,  -5.61455357e-01,\n",
       "          -5.00000000e-01],\n",
       "        [  5.00000000e-01,   5.61455357e-01,   3.34002895e-01,\n",
       "           3.93777105e-17,  -3.34002895e-01,  -5.61455357e-01,\n",
       "          -5.00000000e-01],\n",
       "        [  5.00000000e-01,   5.61455357e-01,   3.34002895e-01,\n",
       "           3.97872599e-17,  -3.34002895e-01,  -5.61455357e-01,\n",
       "          -5.00000000e-01]])"
      ]
     },
     "execution_count": 20,
     "metadata": {},
     "output_type": "execute_result"
    }
   ],
   "source": [
    "T2 = np.asmatrix(T())\n",
    "T2"
   ]
  },
  {
   "cell_type": "code",
   "execution_count": null,
   "metadata": {
    "collapsed": true
   },
   "outputs": [],
   "source": []
  },
  {
   "cell_type": "code",
   "execution_count": 21,
   "metadata": {
    "collapsed": true
   },
   "outputs": [],
   "source": [
    "def eigens_P():\n",
    "    eigen_vec_P1  = np.zeros([cont.M+1,cont.M+1])\n",
    "    eigen_val_P1 = np.zeros([cont.M+1])\n",
    "    eigen_vec_P2  = np.zeros([cont.N+1,cont.N+1])\n",
    "    eigen_val_P2 = np.zeros([cont.N+1])\n",
    "    tempx = np.zeros([cont.M+1,cont.M+1])\n",
    "    tempy = np.zeros([cont.N+1,cont.N+1])\n",
    "  \n",
    "    D00_MM_DM0_0M   = D[0,0]*D[cont.M,cont.M]   - D[cont.M,0]*D[0,cont.M]\n",
    "    TD00_NN_TD0N_N0 = TD[0,0]*TD[cont.N,cont.N] - TD[0,cont.N]*TD[cont.N,0]\n",
    "    \n",
    "    for i in range(cont.M): # generate the coefficient matrix column-wise\n",
    "        tempx[i,1:cont.M] = -D2[i,0] * (D[cont.M,cont.M]*D[0,1:cont.M]-D[0,cont.M]*D[cont.M,1:cont.M])/D00_MM_DM0_0M \\\n",
    "                          + D2[i,cont.M] * (D[cont.M,0]*D[0,1:cont.M]-D[0,0]*D[cont.M,1:cont.M])/D00_MM_DM0_0M \n",
    "    ##tempx[1:cont.M,1:cont.N] = (D2[1:cont.M,1:cont.N] + tempx[1:cont.M,1:cont.N])\n",
    "    tempx[1:cont.M,1:cont.N] = cont.asp**2*(D2[1:cont.M,1:cont.N] + tempx[1:cont.M,1:cont.N])\n",
    "    \n",
    "    for j in range(cont.M): # generate the coefficient matrix column-wise\n",
    "        tempy[1:cont.N,j] = np.asarray(np.transpose(-(TD2[0,j] * (TD[cont.N,cont.N]*TD[1:cont.N,0]-TD[cont.N,0]*TD[1:cont.N,cont.N])/TD00_NN_TD0N_N0) \\\n",
    "                          + (TD2[cont.N,j] * (TD[0,cont.N]*TD[1:cont.N,0]-TD[0,0]*TD[1:cont.N,cont.N])/TD00_NN_TD0N_N0)))\n",
    "    ##tempy[1:cont.M,1:cont.N] = (TD2[1:cont.M,1:cont.N] + tempy[1:cont.M,1:cont.N])\n",
    "    tempy[1:cont.M,1:cont.N] = cont.asp**2*(TD2[1:cont.M,1:cont.N] + tempy[1:cont.M,1:cont.N])\n",
    "    \n",
    "    eigen_val_P1[1:cont.M], eigen_vec_P1[1:cont.M,1:cont.M] = np.linalg.eig(tempx[1:cont.M,1:cont.M])\n",
    "    eigen_val_P2[1:cont.N], eigen_vec_P2[1:cont.N,1:cont.N] = np.linalg.eig(tempy[1:cont.N,1:cont.N])\n",
    "    \n",
    "    return eigen_vec_P1, eigen_val_P1, eigen_vec_P2, eigen_val_P2"
   ]
  },
  {
   "cell_type": "code",
   "execution_count": 22,
   "metadata": {},
   "outputs": [
    {
     "data": {
      "text/plain": [
       "(array([[  0.00000000e+00,   0.00000000e+00,   0.00000000e+00,\n",
       "           0.00000000e+00,   0.00000000e+00,   0.00000000e+00,\n",
       "           0.00000000e+00],\n",
       "        [  0.00000000e+00,  -2.48151635e-01,   4.93291351e-01,\n",
       "          -5.59384051e-01,  -4.47213595e-01,  -5.72984105e-01,\n",
       "           0.00000000e+00],\n",
       "        [  0.00000000e+00,   5.57644495e-01,  -5.06619821e-01,\n",
       "          -6.65576838e-03,  -4.47213595e-01,  -4.14353974e-01,\n",
       "           0.00000000e+00],\n",
       "        [  0.00000000e+00,  -5.04882924e-01,  -1.79361931e-15,\n",
       "           6.11629273e-01,  -4.47213595e-01,  -1.29169494e-15,\n",
       "           0.00000000e+00],\n",
       "        [  0.00000000e+00,   5.57644495e-01,   5.06619821e-01,\n",
       "          -6.65576838e-03,  -4.47213595e-01,   4.14353974e-01,\n",
       "           0.00000000e+00],\n",
       "        [  0.00000000e+00,  -2.48151635e-01,  -4.93291351e-01,\n",
       "          -5.59384051e-01,  -4.47213595e-01,   5.72984105e-01,\n",
       "           0.00000000e+00],\n",
       "        [  0.00000000e+00,   0.00000000e+00,   0.00000000e+00,\n",
       "           0.00000000e+00,   0.00000000e+00,   0.00000000e+00,\n",
       "           0.00000000e+00]]),\n",
       " array([  0.00000000e+00,  -1.21889878e+02,  -8.88660317e+01,\n",
       "         -3.97943323e+01,  -1.81393178e-14,  -9.87682548e+00,\n",
       "          0.00000000e+00]),\n",
       " array([[  0.00000000e+00,   0.00000000e+00,   0.00000000e+00,\n",
       "           0.00000000e+00,   0.00000000e+00,   0.00000000e+00,\n",
       "           0.00000000e+00],\n",
       "        [  0.00000000e+00,  -2.84313871e-01,   4.14353974e-01,\n",
       "          -4.75796572e-01,  -3.37963185e-01,  -5.06619821e-01,\n",
       "           0.00000000e+00],\n",
       "        [  0.00000000e+00,   5.38481944e-01,  -5.72984105e-01,\n",
       "           1.14963496e-01,  -4.34524095e-01,  -4.93291351e-01,\n",
       "           0.00000000e+00],\n",
       "        [  0.00000000e+00,  -5.08336146e-01,  -2.19478700e-15,\n",
       "           7.21666151e-01,  -6.27645914e-01,   2.00210571e-16,\n",
       "           0.00000000e+00],\n",
       "        [  0.00000000e+00,   5.38481944e-01,   5.72984105e-01,\n",
       "           1.14963496e-01,  -4.34524095e-01,   4.93291351e-01,\n",
       "           0.00000000e+00],\n",
       "        [  0.00000000e+00,  -2.84313871e-01,  -4.14353974e-01,\n",
       "          -4.75796572e-01,  -3.37963185e-01,   5.06619821e-01,\n",
       "           0.00000000e+00],\n",
       "        [  0.00000000e+00,   0.00000000e+00,   0.00000000e+00,\n",
       "           0.00000000e+00,   0.00000000e+00,   0.00000000e+00,\n",
       "           0.00000000e+00]]),\n",
       " array([  0.00000000e+00,  -1.21889878e+02,  -8.88660317e+01,\n",
       "         -3.97943323e+01,  -1.96114051e-14,  -9.87682548e+00,\n",
       "          0.00000000e+00]))"
      ]
     },
     "execution_count": 22,
     "metadata": {},
     "output_type": "execute_result"
    }
   ],
   "source": [
    "eigens_P()"
   ]
  },
  {
   "cell_type": "code",
   "execution_count": 23,
   "metadata": {},
   "outputs": [],
   "source": [
    "def RHS_P():\n",
    "    \n",
    "    RHS = np.asmatrix(np.zeros([cont.M+1,cont.N+1]))\n",
    "    rhs1= np.asmatrix(np.zeros([cont.M+1,cont.N+1]))\n",
    "    rhs2= np.asmatrix(np.zeros([cont.M+1,cont.N+1]))\n",
    "\n",
    "    \n",
    "    RHS = cont.asp*D*( -2*NL(U1,V1,U1) + NL(U0,V0,U0) )\\\n",
    "        + cont.asp*( -2*NL(U1,V1,V1) + NL(U0,V0,V0) + cont.Ri*cont.Re*cont.Re*T2)*TD \n",
    "    rhs1[0,:] =(-3*Uexact[0,:]+4*U1[0,:]-U0[0,:]) / (2.0*cont.dt) \\\n",
    "              + (-2*NL(U1,V1,U1))[0,:] + NL(U0,V0,U0)[0,:] +2*LU(U1,V1)[0,:]-LU(U0,V0)[0,:]\n",
    "    rhs1[-1,:]=(-3*Uexact[-1,:]+4*U1[-1,:]-U0[-1,:]) / (2.0*cont.dt) \\\n",
    "              + (-2*NL(U1,V1,U1))[-1,:] + NL(U0,V0,U0)[-1,:] +2*LU(U1,V1)[-1,:]-LU(U0,V0)[-1,:]\n",
    "    rhs2[:,0] =(-3*Vexact[:,0]+4*V1[:,0]-V0[:,0]) / (2.0*cont.dt) \\\n",
    "              + (-2*NL(U1,V1,V1))[:,0] + NL(U0,V0,V0)[:,0] +2*LV(U1,V1)[:,0]\\\n",
    "              -LV(U0,V0)[:,0]+ cont.Ri*cont.Re*cont.Re*T2[:,0]\n",
    "    rhs2[:,-1]=(-3*Vexact[:,-1]+4*V1[:,-1]-V0[:,-1]) / (2.0*cont.dt) \\\n",
    "              + (-2*NL(U1,V1,V1))[:,-1] + NL(U0,V0,V0)[:,-1] +2*LV(U1,V1)[:,-1]\\\n",
    "              -LV(U0,V0)[:,-1] + cont.Ri*cont.Re*cont.Re*T2[:,-1]\n",
    "            \n",
    "    for j in range(1,cont.M):  # c1,c2,c3,c4 need to be defined\n",
    "        RHS[:,j] = RHS[:,j]-cont.asp*D2[:,0] *(D[cont.M,cont.N]*rhs1[0,j] -D[0,cont.M]*rhs1[cont.M,j] ) / c1 \\\n",
    "                          -cont.asp*D2[:,cont.M]  *(D[cont.M,0]*rhs1[0,j] -D[0,0]*rhs1[cont.N,j] ) / c2 \\\n",
    "                          -2*TD2[0,j]  *(TD[cont.M,cont.M]*rhs2[:,0] -TD[cont.M,0]*rhs2[:,cont.M] )/ c3 \\\n",
    "                          -2*TD2[cont.M,j]  *(TD[0,cont.M]*rhs2[:,0] -TD[0,0]*rhs2[:,cont.M] )/ c4\n",
    "    RHS = np.asarray(RHS)\n",
    "    return rhs1, rhs2, RHS\n"
   ]
  },
  {
   "cell_type": "code",
   "execution_count": null,
   "metadata": {},
   "outputs": [],
   "source": []
  },
  {
   "cell_type": "code",
   "execution_count": 24,
   "metadata": {
    "scrolled": false
   },
   "outputs": [
    {
     "data": {
      "text/plain": [
       "(matrix([[ 0.,  0.,  0.,  0.,  0.,  0.,  0.],\n",
       "         [ 0.,  0.,  0.,  0.,  0.,  0.,  0.],\n",
       "         [ 0.,  0.,  0.,  0.,  0.,  0.,  0.],\n",
       "         [ 0.,  0.,  0.,  0.,  0.,  0.,  0.],\n",
       "         [ 0.,  0.,  0.,  0.,  0.,  0.,  0.],\n",
       "         [ 0.,  0.,  0.,  0.,  0.,  0.,  0.],\n",
       "         [ 0.,  0.,  0.,  0.,  0.,  0.,  0.]]),\n",
       " matrix([[ 3781250.,        0.,        0.,        0.,        0.,        0.,\n",
       "          -3781250.],\n",
       "         [ 3781250.,        0.,        0.,        0.,        0.,        0.,\n",
       "          -3781250.],\n",
       "         [ 3781250.,        0.,        0.,        0.,        0.,        0.,\n",
       "          -3781250.],\n",
       "         [ 3781250.,        0.,        0.,        0.,        0.,        0.,\n",
       "          -3781250.],\n",
       "         [ 3781250.,        0.,        0.,        0.,        0.,        0.,\n",
       "          -3781250.],\n",
       "         [ 3781250.,        0.,        0.,        0.,        0.,        0.,\n",
       "          -3781250.],\n",
       "         [ 3781250.,        0.,        0.,        0.,        0.,        0.,\n",
       "          -3781250.]]),\n",
       " array([[-15968157.05648919, -25734786.71459314,  14986292.96893013,\n",
       "           6964133.88950471,  14986292.96893016, -25734786.7145931 ,\n",
       "         -15968157.05648916],\n",
       "        [-15968157.05648933, -25734786.71459317,  14986292.96893016,\n",
       "           6964133.88950471,  14986292.96893018, -25734786.71459313,\n",
       "         -15968157.05648921],\n",
       "        [-15968157.05648941, -25734786.71459319,  14986292.96893018,\n",
       "           6964133.88950472,  14986292.96893018, -25734786.71459314,\n",
       "         -15968157.05648922],\n",
       "        [-15968157.05648941, -25734786.71459319,  14986292.96893018,\n",
       "           6964133.88950472,  14986292.96893018, -25734786.71459314,\n",
       "         -15968157.05648922],\n",
       "        [-15968157.05648941, -25734786.71459319,  14986292.96893018,\n",
       "           6964133.88950471,  14986292.96893018, -25734786.71459314,\n",
       "         -15968157.05648924],\n",
       "        [-15968157.05648938, -25734786.71459319,  14986292.96893017,\n",
       "           6964133.88950471,  14986292.96893019, -25734786.71459314,\n",
       "         -15968157.05648927],\n",
       "        [-15968157.05648935, -25734786.71459318,  14986292.96893017,\n",
       "           6964133.88950472,  14986292.96893018, -25734786.71459314,\n",
       "         -15968157.05648924]]))"
      ]
     },
     "execution_count": 24,
     "metadata": {},
     "output_type": "execute_result"
    }
   ],
   "source": [
    "RHS_P()"
   ]
  },
  {
   "cell_type": "code",
   "execution_count": 25,
   "metadata": {},
   "outputs": [],
   "source": [
    "def Pressure():\n",
    "    P = np.asmatrix(np.zeros([cont.M+1,cont.N+1]))\n",
    "    rhs1, rhs2, RHS = RHS_P()\n",
    "    eig_vec1, eig_val1, eig_vec2, eig_val2 = eigens_P()\n",
    "    sigma=0.0\n",
    "    P=Helmholtz_solver(RHS,sigma,eig_val1,eig_vec1,eig_val2,eig_vec2)\n",
    "    P[:,0] = 0\n",
    "    P[:,cont.M] = 0\n",
    "    for j in range(1,cont.M):\n",
    "        P[0,j]=((D[cont.M,cont.M]*0.5*rhs1[0,j]- D[0,cont.M]*0.5*rhs1[cont.M,j]) \n",
    "                 -np.dot(D[cont.M,cont.M]*D[0,1:cont.N]-D[0,cont.M]*D[cont.M,1:cont.M], P[1:cont.M,j])) / c1\n",
    "        \n",
    "        P[cont.M,j]=((D[cont.M,0]*0.5*rhs1[0,j]- D[0,0]*0.5*rhs1[cont.M,j]) \n",
    "                 -np.dot(D[cont.N,0]*D[0,1:cont.N]-D[0,0]*D[cont.N,1:cont.N], P[1:cont.M,j])) / c2\n",
    "\n",
    "    for i in range(0,cont.M+1):\n",
    "        P[i,0]     =( (TD[cont.M,cont.M]*0.5*rhs2[i,0] -TD[cont.M,0]*0.5*rhs2[i,cont.M])\n",
    "                 - np.dot(P[i,1:cont.M], TD[cont.M,cont.M]*TD[1:cont.M,0]-TD[cont.M,0]*TD[1:cont.M,cont.M]) )/c3\n",
    "        \n",
    "        P[i,cont.M]=( (TD[0,cont.M]     *0.5*rhs2[i,0] -TD[0,0]    *0.5*rhs2[i,cont.M])\n",
    "                 - np.dot(P[i,1:cont.M], TD[0,cont.M]     *TD[1:cont.M,0]-TD[0,0]    *TD[1:cont.M,cont.M]) )/c4                     \n",
    "    \n",
    "    return P"
   ]
  },
  {
   "cell_type": "code",
   "execution_count": 26,
   "metadata": {},
   "outputs": [
    {
     "data": {
      "text/plain": [
       "array([[ 807138.14855568,  532123.59420796, -119130.15669053,\n",
       "        -408106.73065246, -119130.15669053,  532123.59420796,\n",
       "         807138.14855568],\n",
       "       [ 807138.14855568,  532123.59420796, -119130.15669053,\n",
       "        -408106.73065246, -119130.15669053,  532123.59420796,\n",
       "         807138.14855568],\n",
       "       [ 807138.14855568,  532123.59420796, -119130.15669053,\n",
       "        -408106.73065246, -119130.15669053,  532123.59420796,\n",
       "         807138.14855568],\n",
       "       [ 807138.14855568,  532123.59420796, -119130.15669053,\n",
       "        -408106.73065246, -119130.15669053,  532123.59420796,\n",
       "         807138.14855568],\n",
       "       [ 807138.14855568,  532123.59420796, -119130.15669053,\n",
       "        -408106.73065246, -119130.15669053,  532123.59420796,\n",
       "         807138.14855568],\n",
       "       [ 807138.14855568,  532123.59420796, -119130.15669053,\n",
       "        -408106.73065246, -119130.15669053,  532123.59420796,\n",
       "         807138.14855568],\n",
       "       [ 807138.14855568,  532123.59420796, -119130.15669053,\n",
       "        -408106.73065246, -119130.15669053,  532123.59420796,\n",
       "         807138.14855568]])"
      ]
     },
     "execution_count": 26,
     "metadata": {},
     "output_type": "execute_result"
    }
   ],
   "source": [
    "P = Pressure()\n",
    "P"
   ]
  },
  {
   "cell_type": "code",
   "execution_count": null,
   "metadata": {
    "collapsed": true
   },
   "outputs": [],
   "source": []
  },
  {
   "cell_type": "code",
   "execution_count": 27,
   "metadata": {
    "collapsed": true
   },
   "outputs": [],
   "source": [
    "def eigens_vel():\n",
    "    eigen_vec_vel1  = np.zeros([cont.M,cont.M+1])\n",
    "    eigen_val_vel1 = np.zeros([cont.M+1])\n",
    "    eigen_vec_vel2  = np.zeros([cont.N+1,cont.N+1])\n",
    "    eigen_val_vel2 = np.zeros([cont.N+1])\n",
    "    tempx = np.zeros([cont.M+1,cont.M+1])\n",
    "    tempy = np.zeros([cont.N+1,cont.N+1])\n",
    "\n",
    "    tempx[1:cont.M,1:cont.N]  = cont.asp*cont.asp*D2[1:cont.M,1:cont.N] \n",
    "    tempy[1:cont.N,1:cont.N]  =  cont.asp*cont.asp*TD2[1:cont.N,1:cont.N] \n",
    "\n",
    "    eigen_val_vel1[1:cont.M], eigen_vec_vel1[1:cont.M,1:cont.M] = np.linalg.eig(tempx[1:cont.M,1:cont.M])\n",
    "    eigen_val_vel2[1:cont.N], eigen_vec_vel2[1:cont.N,1:cont.N] = np.linalg.eig(tempy[1:cont.N,1:cont.N] )\n",
    "\n",
    "    return eigen_vec_vel1, eigen_val_vel1, eigen_vec_vel2, eigen_val_vel2"
   ]
  },
  {
   "cell_type": "code",
   "execution_count": 28,
   "metadata": {
    "scrolled": true
   },
   "outputs": [
    {
     "data": {
      "text/plain": [
       "(array([[  0.00000000e+00,   0.00000000e+00,   0.00000000e+00,\n",
       "           0.00000000e+00,   0.00000000e+00,   0.00000000e+00,\n",
       "           0.00000000e+00],\n",
       "        [  0.00000000e+00,  -6.73991097e-01,   6.89057421e-01,\n",
       "           3.61643148e-01,   1.44584243e-01,  -2.70859758e-01,\n",
       "           0.00000000e+00],\n",
       "        [  0.00000000e+00,   1.99385166e-01,  -1.58744673e-01,\n",
       "           4.30277879e-01,   4.89426948e-01,  -6.53173018e-01,\n",
       "           0.00000000e+00],\n",
       "        [  0.00000000e+00,  -1.09376019e-01,  -7.32977268e-16,\n",
       "          -6.06753955e-01,   6.92180120e-01,  -8.18104776e-16,\n",
       "           0.00000000e+00],\n",
       "        [  0.00000000e+00,   1.99385166e-01,   1.58744673e-01,\n",
       "           4.30277879e-01,   4.89426948e-01,   6.53173018e-01,\n",
       "           0.00000000e+00],\n",
       "        [  0.00000000e+00,  -6.73991097e-01,  -6.89057421e-01,\n",
       "           3.61643148e-01,   1.44584243e-01,   2.70859758e-01,\n",
       "           0.00000000e+00]]),\n",
       " array([   0.        , -298.79352021, -259.15338817,  -83.33679638,\n",
       "          -9.86968341,  -39.5132785 ,    0.        ]),\n",
       " array([[  0.00000000e+00,   0.00000000e+00,   0.00000000e+00,\n",
       "           0.00000000e+00,   0.00000000e+00,   0.00000000e+00,\n",
       "           0.00000000e+00],\n",
       "        [  0.00000000e+00,  -5.98146887e-01,   6.53173018e-01,\n",
       "           1.92089349e-01,   1.58744673e-01,   7.63304516e-02,\n",
       "           0.00000000e+00],\n",
       "        [  0.00000000e+00,   3.39956273e-01,  -2.70859758e-01,\n",
       "           4.51997088e-01,   6.89057421e-01,   4.63154226e-01,\n",
       "           0.00000000e+00],\n",
       "        [  0.00000000e+00,  -2.30868075e-01,  -2.16378608e-15,\n",
       "          -7.19444667e-01,   3.74696886e-16,   7.47879435e-01,\n",
       "           0.00000000e+00],\n",
       "        [  0.00000000e+00,   3.39956273e-01,   2.70859758e-01,\n",
       "           4.51997088e-01,  -6.89057421e-01,   4.63154226e-01,\n",
       "           0.00000000e+00],\n",
       "        [  0.00000000e+00,  -5.98146887e-01,  -6.53173018e-01,\n",
       "           1.92089349e-01,  -1.58744673e-01,   7.63304516e-02,\n",
       "           0.00000000e+00],\n",
       "        [  0.00000000e+00,   0.00000000e+00,   0.00000000e+00,\n",
       "           0.00000000e+00,   0.00000000e+00,   0.00000000e+00,\n",
       "           0.00000000e+00]]),\n",
       " array([   0.        , -298.79352021, -259.15338817,  -83.33679638,\n",
       "         -39.5132785 ,   -9.86968341,    0.        ]))"
      ]
     },
     "execution_count": 28,
     "metadata": {},
     "output_type": "execute_result"
    }
   ],
   "source": [
    "eigens_vel()"
   ]
  },
  {
   "cell_type": "code",
   "execution_count": 29,
   "metadata": {
    "scrolled": true
   },
   "outputs": [
    {
     "data": {
      "text/plain": [
       "(matrix([[-470517.58134256,   36657.8531192 ,  -10997.35593576,\n",
       "             7331.57062384],\n",
       "         [-470630.70659256,   36666.66666616,  -10999.99999984,\n",
       "             7333.33333323],\n",
       "         [-470630.70659909,   36666.66666667,  -11000.        ,\n",
       "             7333.33333333],\n",
       "         [-470630.70659256,   36666.66666616,  -10999.99999985,\n",
       "             7333.33333323]]),\n",
       " matrix([[ -6.51925802e-09,  -1.07102096e-08,   7.03637134e-09,\n",
       "            9.77888703e-09],\n",
       "         [ -4.65661287e-09,  -8.38190317e-09,   6.81420876e-09,\n",
       "            6.51925802e-09],\n",
       "         [ -3.72529030e-09,  -9.31322575e-09,   7.04520380e-09,\n",
       "            6.98491931e-09],\n",
       "         [ -3.72529030e-09,  -8.84756446e-09,   7.27987005e-09,\n",
       "            7.45058060e-09]]))"
      ]
     },
     "execution_count": 29,
     "metadata": {},
     "output_type": "execute_result"
    }
   ],
   "source": [
    "def RHS_U():\n",
    "\n",
    "    RHSU = cont.asp*D*P + 2*NL(U1,V1,U1)  - NL(U0,V0,U0) - (4*U1 - U0)/(2*cont.dt)\n",
    "    RHSV = cont.asp*P*TD + 2*NL(U1,V1,V1) - NL(U0,V0,V0) - (4*V1 - V0)/(2*cont.dt) - cont.Ri*cont.Re*cont.Re*T2\n",
    "    \n",
    "    for j in range(1,cont.N):\n",
    "        RHSU[:,j]= RHSU[:,j] - cont.asp*cont.asp*D2[:,0] *Uexact[0,j]   - cont.asp*cont.asp*D2[:,cont.N]*Uexact[cont.N,j] \\\n",
    "                             - cont.asp*cont.asp*Uexact[:,0] * TD2[0,j] - cont.asp*cont.asp*Uexact[:,cont.M]*TD2[cont.M,j]\n",
    "        RHSV[:,j]= RHSV[:,j] - cont.asp*cont.asp*D2[:,0] *Vexact[0,j]   - cont.asp*cont.asp*D2[:,cont.N]*Vexact[cont.N,j] \\\n",
    "                             - cont.asp*cont.asp*Vexact[:,0] *TD2[0,j]  - cont.asp*cont.asp*Vexact[:,cont.M]*TD2[cont.M,j]\n",
    "    return RHSU, RHSV\n",
    "\n",
    "RHSU, RHSV = RHS_U()\n",
    "np.shape(RHSU), np.shape(RHSV)\n",
    "RHSU[1:5,1:5], RHSV[1:5,1:5]"
   ]
  },
  {
   "cell_type": "code",
   "execution_count": 30,
   "metadata": {
    "collapsed": true
   },
   "outputs": [],
   "source": [
    "RHSU = cont.asp*D*P + 2*NL(U1,V1,U1)  - NL(U0,V0,U0) - (4*U1 - U0)/(2*cont.dt)\n",
    "RHSV = cont.asp*P*TD + 2*NL(U1,V1,V1) - NL(U0,V0,V0) - (4*V1 - V0)/(2*cont.dt) - cont.Ri*cont.Re*cont.Re*T2"
   ]
  },
  {
   "cell_type": "code",
   "execution_count": null,
   "metadata": {
    "collapsed": true
   },
   "outputs": [],
   "source": []
  },
  {
   "cell_type": "code",
   "execution_count": 31,
   "metadata": {},
   "outputs": [],
   "source": [
    "def Velocity():\n",
    "    U = np.asmatrix(np.zeros([cont.M+1,cont.N+1]))\n",
    "    V = np.asmatrix(np.zeros([cont.M+1,cont.N+1]))\n",
    "    eig_vec1, eig_val1, eig_vec2, eig_val2 = eigens_vel()\n",
    "    RHSU,RHSV = RHS_U()       \n",
    "    sigma = 3.0*cont.Pr/(2.0*cont.dt)\n",
    "    \n",
    "    U=Helmholtz_solver(RHSU,sigma,eig_val1,eig_vec1,eig_val2,eig_vec2)\n",
    "    V=Helmholtz_solver(RHSV,sigma,eig_val1,eig_vec1,eig_val2,eig_vec2)\n",
    "    \n",
    "    U = np.asmatrix(U)\n",
    "    V = np.asmatrix(V)\n",
    "    \n",
    "    # impose exact boundary velocity    \n",
    "    U[:,0] = Uexact[:,0] \n",
    "    V[:,0] = Vexact[:,0]\n",
    "    U[:,cont.M] = Uexact[:,cont.M]\n",
    "    V[:,cont.M] = Vexact[:,cont.N]\n",
    "    U[0,:] = Uexact[0,:]  \n",
    "    V[0,:] = Vexact[0,:]\n",
    "    U[cont.N,:] = Uexact[cont.N,:]\n",
    "    V[cont.N,:] = Vexact[cont.N,:]\n",
    "    \n",
    "    return U, V"
   ]
  },
  {
   "cell_type": "code",
   "execution_count": 32,
   "metadata": {},
   "outputs": [
    {
     "data": {
      "text/plain": [
       "(matrix([[    0.        ,     0.        ,     0.        ,     0.        ,\n",
       "              0.        ,     0.        ,     0.        ],\n",
       "         [ 2749.33898394,   244.54942766,   -13.56155064,     4.53617978,\n",
       "             -2.99910388,     5.28451241,     0.        ],\n",
       "         [ 2749.99999996,   269.47201975,   -14.31723092,     4.87576477,\n",
       "             -3.22302529,     5.66114829,     0.        ],\n",
       "         [ 2750.        ,   267.04488208,   -14.22428799,     4.83928188,\n",
       "             -3.19901212,     5.62025444,     0.        ],\n",
       "         [ 2749.99999996,   269.47201975,   -14.31723092,     4.87576477,\n",
       "             -3.22302529,     5.66114829,     0.        ],\n",
       "         [ 2749.33898394,   244.54942766,   -13.56155064,     4.53617978,\n",
       "             -2.99910388,     5.28451241,     0.        ],\n",
       "         [    0.        ,     0.        ,     0.        ,     0.        ,\n",
       "              0.        ,     0.        ,     0.        ]]),\n",
       " matrix([[  0.00000000e+00,   0.00000000e+00,   0.00000000e+00,\n",
       "            0.00000000e+00,   0.00000000e+00,   0.00000000e+00,\n",
       "            0.00000000e+00],\n",
       "         [  0.00000000e+00,   3.74044231e-12,   6.13630168e-12,\n",
       "           -4.05325752e-12,  -5.93350199e-12,  -8.91923506e-12,\n",
       "            0.00000000e+00],\n",
       "         [  0.00000000e+00,   3.07872349e-12,   5.42156628e-12,\n",
       "           -4.37465364e-12,  -4.66361298e-12,  -8.76375050e-12,\n",
       "            0.00000000e+00],\n",
       "         [  0.00000000e+00,   2.53455974e-12,   5.87308760e-12,\n",
       "           -4.45859860e-12,  -4.87152073e-12,  -9.18890620e-12,\n",
       "            0.00000000e+00],\n",
       "         [  0.00000000e+00,   2.53470947e-12,   5.63525990e-12,\n",
       "           -4.67200073e-12,  -5.23890423e-12,  -1.03286660e-11,\n",
       "            0.00000000e+00],\n",
       "         [  0.00000000e+00,   1.78864121e-12,   4.52293245e-12,\n",
       "           -4.56840036e-12,  -3.90770788e-12,  -8.87963792e-12,\n",
       "            0.00000000e+00],\n",
       "         [  0.00000000e+00,   0.00000000e+00,   0.00000000e+00,\n",
       "            0.00000000e+00,   0.00000000e+00,   0.00000000e+00,\n",
       "            0.00000000e+00]]))"
      ]
     },
     "execution_count": 32,
     "metadata": {},
     "output_type": "execute_result"
    }
   ],
   "source": [
    "U, V = Velocity()\n",
    "U[1:5,1:5], V[1:5,1:5]\n",
    "U,V"
   ]
  },
  {
   "cell_type": "code",
   "execution_count": null,
   "metadata": {
    "collapsed": true
   },
   "outputs": [],
   "source": []
  },
  {
   "cell_type": "code",
   "execution_count": null,
   "metadata": {
    "collapsed": true
   },
   "outputs": [],
   "source": []
  },
  {
   "cell_type": "code",
   "execution_count": null,
   "metadata": {
    "collapsed": true
   },
   "outputs": [],
   "source": []
  },
  {
   "cell_type": "code",
   "execution_count": 33,
   "metadata": {
    "collapsed": true
   },
   "outputs": [],
   "source": [
    "def eigens_phi():\n",
    "    eigen_vec_phi1  = np.zeros([cont.M+1,cont.M+1])\n",
    "    eigen_val_phi1 = np.zeros([cont.M+1])\n",
    "    eigen_vec_phi2  = np.zeros([cont.N+1,cont.N+1])\n",
    "    eigen_val_phi2 = np.zeros([cont.N+1])\n",
    "    tempx = np.zeros([cont.M+1,cont.M+1])\n",
    "    tempy = np.zeros([cont.N+1,cont.N+1])\n",
    "  \n",
    "    D00_MM_DM0_0M   = D[0,0]*D[cont.M,cont.M]   - D[cont.M,0]*D[0,cont.M]\n",
    "    TD00_NN_TD0N_N0 = TD[0,0]*TD[cont.N,cont.N] - TD[0,cont.N]*TD[cont.N,0]\n",
    "    \n",
    "    for i in range(cont.M): # generate the coefficient matrix column-wise\n",
    "        tempx[i,1:cont.M] = -D2[i,0] * (D[cont.M,cont.M]*D[0,1:cont.M]-D[0,cont.M]*D[cont.M,1:cont.M])/D00_MM_DM0_0M \\\n",
    "                          + D2[i,cont.M] * (D[cont.M,0]*D[0,1:cont.M]-D[0,0]*D[cont.M,1:cont.M])/D00_MM_DM0_0M \n",
    "    ##tempx[1:cont.M,1:cont.N] = (D2[1:cont.M,1:cont.N] + tempx[1:cont.M,1:cont.N])\n",
    "    tempx[1:cont.M,1:cont.N] = cont.asp**2*(D2[1:cont.M,1:cont.N] + tempx[1:cont.M,1:cont.N])\n",
    "    \n",
    "    for j in range(cont.M): # generate the coefficient matrix column-wise\n",
    "        tempy[1:cont.N,j] = np.asarray(np.transpose(-(TD2[0,j] * (TD[cont.N,cont.N]*TD[1:cont.N,0]-TD[cont.N,0]*TD[1:cont.N,cont.N])/TD00_NN_TD0N_N0) \\\n",
    "                          + (TD2[cont.N,j] * (TD[0,cont.N]*TD[1:cont.N,0]-TD[0,0]*TD[1:cont.N,cont.N])/TD00_NN_TD0N_N0)))\n",
    "    ##tempy[1:cont.M,1:cont.N] = (TD2[1:cont.M,1:cont.N] + tempy[1:cont.M,1:cont.N])\n",
    "    tempy[1:cont.M,1:cont.N] = cont.asp**2*(TD2[1:cont.M,1:cont.N] + tempy[1:cont.M,1:cont.N])\n",
    "    \n",
    "    eigen_val_phi1[1:cont.M], eigen_vec_phi1[1:cont.M,1:cont.M] = np.linalg.eig(tempx[1:cont.M,1:cont.M])\n",
    "    eigen_val_phi2[1:cont.N], eigen_vec_phi2[1:cont.N,1:cont.N] = np.linalg.eig(tempy[1:cont.N,1:cont.N])\n",
    "    \n",
    "    return eigen_vec_phi1, eigen_val_phi1, eigen_vec_phi2, eigen_val_phi2"
   ]
  },
  {
   "cell_type": "code",
   "execution_count": 34,
   "metadata": {
    "scrolled": true
   },
   "outputs": [
    {
     "data": {
      "text/plain": [
       "(array([[  0.00000000e+00,   0.00000000e+00,   0.00000000e+00,\n",
       "           0.00000000e+00,   0.00000000e+00,   0.00000000e+00,\n",
       "           0.00000000e+00],\n",
       "        [  0.00000000e+00,  -2.48151635e-01,   4.93291351e-01,\n",
       "          -5.59384051e-01,  -4.47213595e-01,  -5.72984105e-01,\n",
       "           0.00000000e+00],\n",
       "        [  0.00000000e+00,   5.57644495e-01,  -5.06619821e-01,\n",
       "          -6.65576838e-03,  -4.47213595e-01,  -4.14353974e-01,\n",
       "           0.00000000e+00],\n",
       "        [  0.00000000e+00,  -5.04882924e-01,  -1.79361931e-15,\n",
       "           6.11629273e-01,  -4.47213595e-01,  -1.29169494e-15,\n",
       "           0.00000000e+00],\n",
       "        [  0.00000000e+00,   5.57644495e-01,   5.06619821e-01,\n",
       "          -6.65576838e-03,  -4.47213595e-01,   4.14353974e-01,\n",
       "           0.00000000e+00],\n",
       "        [  0.00000000e+00,  -2.48151635e-01,  -4.93291351e-01,\n",
       "          -5.59384051e-01,  -4.47213595e-01,   5.72984105e-01,\n",
       "           0.00000000e+00],\n",
       "        [  0.00000000e+00,   0.00000000e+00,   0.00000000e+00,\n",
       "           0.00000000e+00,   0.00000000e+00,   0.00000000e+00,\n",
       "           0.00000000e+00]]),\n",
       " array([  0.00000000e+00,  -1.21889878e+02,  -8.88660317e+01,\n",
       "         -3.97943323e+01,  -1.81393178e-14,  -9.87682548e+00,\n",
       "          0.00000000e+00]),\n",
       " array([[  0.00000000e+00,   0.00000000e+00,   0.00000000e+00,\n",
       "           0.00000000e+00,   0.00000000e+00,   0.00000000e+00,\n",
       "           0.00000000e+00],\n",
       "        [  0.00000000e+00,  -2.84313871e-01,   4.14353974e-01,\n",
       "          -4.75796572e-01,  -3.37963185e-01,  -5.06619821e-01,\n",
       "           0.00000000e+00],\n",
       "        [  0.00000000e+00,   5.38481944e-01,  -5.72984105e-01,\n",
       "           1.14963496e-01,  -4.34524095e-01,  -4.93291351e-01,\n",
       "           0.00000000e+00],\n",
       "        [  0.00000000e+00,  -5.08336146e-01,  -2.19478700e-15,\n",
       "           7.21666151e-01,  -6.27645914e-01,   2.00210571e-16,\n",
       "           0.00000000e+00],\n",
       "        [  0.00000000e+00,   5.38481944e-01,   5.72984105e-01,\n",
       "           1.14963496e-01,  -4.34524095e-01,   4.93291351e-01,\n",
       "           0.00000000e+00],\n",
       "        [  0.00000000e+00,  -2.84313871e-01,  -4.14353974e-01,\n",
       "          -4.75796572e-01,  -3.37963185e-01,   5.06619821e-01,\n",
       "           0.00000000e+00],\n",
       "        [  0.00000000e+00,   0.00000000e+00,   0.00000000e+00,\n",
       "           0.00000000e+00,   0.00000000e+00,   0.00000000e+00,\n",
       "           0.00000000e+00]]),\n",
       " array([  0.00000000e+00,  -1.21889878e+02,  -8.88660317e+01,\n",
       "         -3.97943323e+01,  -1.96114051e-14,  -9.87682548e+00,\n",
       "          0.00000000e+00]))"
      ]
     },
     "execution_count": 34,
     "metadata": {},
     "output_type": "execute_result"
    }
   ],
   "source": [
    "eigens_phi()"
   ]
  },
  {
   "cell_type": "code",
   "execution_count": 35,
   "metadata": {},
   "outputs": [],
   "source": [
    "def RHS_phi(U,V):\n",
    "    \n",
    "    RHS = cont.asp*(D*U + V*TD)\n",
    "\n",
    "    return RHS"
   ]
  },
  {
   "cell_type": "code",
   "execution_count": 36,
   "metadata": {
    "scrolled": false
   },
   "outputs": [
    {
     "data": {
      "text/plain": [
       "matrix([[ -6.96455142e+04,  -6.01939300e+03,   3.38149643e+02,\n",
       "          -1.12506723e+02,   7.43884362e+01,  -1.31199833e+02,\n",
       "           0.00000000e+00],\n",
       "        [ -1.90510323e+04,  -1.81500589e+03,   9.76621592e+01,\n",
       "          -3.30803049e+01,   2.18681059e+01,  -3.84462229e+01,\n",
       "          -2.43386805e-10],\n",
       "        [  3.66402260e+03,   2.69314209e+02,  -1.64386918e+01,\n",
       "           5.28861130e+00,  -3.49773409e+00,   6.20522961e+00,\n",
       "          -2.49701786e-10],\n",
       "        [ -5.30412358e-12,  -6.16977772e-11,   3.19623062e-11,\n",
       "           2.21132463e-11,   2.29365574e-11,  -4.43495855e-11,\n",
       "          -2.63438448e-10],\n",
       "        [ -3.66402260e+03,  -2.69314209e+02,   1.64386918e+01,\n",
       "          -5.28861130e+00,   3.49773409e+00,  -6.20522961e+00,\n",
       "          -2.94747591e-10],\n",
       "        [  1.90510323e+04,   1.81500589e+03,  -9.76621592e+01,\n",
       "           3.30803049e+01,  -2.18681059e+01,   3.84462229e+01,\n",
       "          -2.60353051e-10],\n",
       "        [  6.96455142e+04,   6.01939300e+03,  -3.38149643e+02,\n",
       "           1.12506723e+02,  -7.43884362e+01,   1.31199833e+02,\n",
       "           0.00000000e+00]])"
      ]
     },
     "execution_count": 36,
     "metadata": {},
     "output_type": "execute_result"
    }
   ],
   "source": [
    "RHS_phi(U, V)"
   ]
  },
  {
   "cell_type": "code",
   "execution_count": 37,
   "metadata": {},
   "outputs": [],
   "source": [
    "def correction(U,V,P):\n",
    "    RHS = np.asmatrix(np.zeros([cont.M+1,cont.N+1]))\n",
    "    phi = np.asmatrix(np.zeros([cont.M+1,cont.N+1]))\n",
    "    \n",
    "    RHS = RHS_phi(U,V)\n",
    "    eig_vec1, eig_val1, eig_vec2, eig_val2 = eigens_phi()\n",
    "    sigma = 0.0\n",
    "    \n",
    "    phi=Helmholtz_solver(RHS,sigma,eig_val1,eig_vec1,eig_val2,eig_vec2)\n",
    "    \n",
    "    phi[:,0] = 0\n",
    "    phi[:,cont.M] = 0\n",
    "    \n",
    "    for j in range(1,cont.M):  # update the boundary of phi\n",
    "        phi[0,j] = -np.dot(D[cont.N,cont.N]*D[0,1:cont.N]-D[0,cont.N]*D[cont.N,1:cont.N],phi[1:cont.M,j]) /c1\n",
    "        phi[cont.N,j] = -np.dot(D[cont.M,0]*D[0,1:cont.M]-D[0,0]*D[cont.M,1:cont.M],phi[1:cont.M,j]) /c2\n",
    "        \n",
    "    for j in range(0,cont.M+1):\n",
    "        phi[j,0] = -np.dot(phi[j,1:cont.M], TD[cont.M,cont.M]*TD[1:cont.M,0]-TD[cont.M,0]*TD[1:cont.M,cont.M]) /c3\n",
    "        phi[j,cont.M] = -np.dot(phi[j,1:cont.M], TD[0,cont.M]*TD[1:cont.M,0]-TD[0,0]*TD[1:cont.M,cont.M]) /c4\n",
    "    \n",
    "            \n",
    "    P2 = P + 3*(cont.Pr/(2*cont.dt))*phi\n",
    "    U2 = U - 2*D *phi\n",
    "    V2 = V - 2*phi *TD\n",
    "            \n",
    "    return U2, V2, P2, phi        "
   ]
  },
  {
   "cell_type": "code",
   "execution_count": 38,
   "metadata": {},
   "outputs": [],
   "source": [
    "U2, V2, P2, phi = correction(U,V,P)"
   ]
  },
  {
   "cell_type": "code",
   "execution_count": 39,
   "metadata": {},
   "outputs": [
    {
     "data": {
      "text/plain": [
       "matrix([[ 140.8010344 ,  -42.61082788,   -3.3636898 ,   -7.2658949 ],\n",
       "        [ 147.85894648,  -68.03212267,  -17.69022082,  -16.12782245],\n",
       "        [ 231.31552205,  -63.55551701,  -24.49295013,  -20.4750244 ],\n",
       "        [ 147.85894648,  -68.03212267,  -17.69022082,  -16.12782245]])"
      ]
     },
     "execution_count": 39,
     "metadata": {},
     "output_type": "execute_result"
    }
   ],
   "source": [
    "U2[1:5,1:5]"
   ]
  },
  {
   "cell_type": "code",
   "execution_count": 40,
   "metadata": {},
   "outputs": [
    {
     "data": {
      "text/plain": [
       "matrix([[ -9.48223010e+01,  -9.14907581e+01,  -1.82993009e+01,\n",
       "          -1.37587370e+01],\n",
       "        [ -1.37932730e+01,  -2.79373058e+01,  -1.81554874e+01,\n",
       "          -5.73813557e+00],\n",
       "        [ -4.06900821e-12,   1.27195554e-13,  -3.93769771e-12,\n",
       "           1.83078119e-14],\n",
       "        [  1.37932730e+01,   2.79373058e+01,   1.81554874e+01,\n",
       "           5.73813557e+00],\n",
       "        [  9.48223010e+01,   9.14907581e+01,   1.82993009e+01,\n",
       "           1.37587370e+01]])"
      ]
     },
     "execution_count": 40,
     "metadata": {},
     "output_type": "execute_result"
    }
   ],
   "source": [
    "V2[1:6,1:5]"
   ]
  },
  {
   "cell_type": "code",
   "execution_count": 41,
   "metadata": {},
   "outputs": [
    {
     "data": {
      "text/plain": [
       "array([[ 881926.68599148,  600556.83595658,  -85549.09152435,\n",
       "        -393138.31513898, -110519.99697603,  540113.51264626,\n",
       "         815846.27104207],\n",
       "       [ 875198.97518162,  594690.98021276,  -87136.6886137 ,\n",
       "        -393547.86771342, -110739.20166882,  539804.87728449,\n",
       "         815406.0509191 ],\n",
       "       [ 833592.72643784,  557837.83592899,  -99804.38013435,\n",
       "        -397943.47759138, -113198.92417662,  537080.818708  ,\n",
       "         812001.39357412],\n",
       "       [ 807138.14855569,  532123.59420797, -119130.15669053,\n",
       "        -408106.73065246, -119130.15669053,  532123.59420796,\n",
       "         807138.14855568],\n",
       "       [ 780683.57067353,  506409.35248694, -138455.93324671,\n",
       "        -418269.98371354, -125061.38920444,  527166.36970793,\n",
       "         802274.90353725],\n",
       "       [ 739077.32192975,  469556.20820317, -151123.62476736,\n",
       "        -422665.5935915 , -127521.11171224,  524442.31113144,\n",
       "         798870.24619226],\n",
       "       [ 732349.61111989,  463690.35245935, -152711.2218567 ,\n",
       "        -423075.14616594, -127740.31640503,  524133.67576966,\n",
       "         798430.0260693 ]])"
      ]
     },
     "execution_count": 41,
     "metadata": {},
     "output_type": "execute_result"
    }
   ],
   "source": [
    "P2"
   ]
  },
  {
   "cell_type": "code",
   "execution_count": 42,
   "metadata": {},
   "outputs": [],
   "source": [
    "def int_vector():\n",
    "    cont.M = 6\n",
    "    W = np.zeros([cont.M+1])\n",
    "    W[0] = 1.0/((cont.M**2) - 1.0)\n",
    "    W[-1] = W[0]\n",
    "    for j in range(1,cont.M):\n",
    "        for i in range(1,int((cont.M/2))):\n",
    "            W[j] = W[j] + 2.0/(1.0-4.0*(i**2)) * np.cos(2.0*i*j*np.pi/float(cont.M))\n",
    "        W[j] = 1.0 + W[j] + np.cos(j*np.pi)/(1.0-(float(cont.M)**2.0))\n",
    "        W[j] = (2.0/float(cont.M)) * W[j]\n",
    "                              \n",
    "    return W"
   ]
  },
  {
   "cell_type": "code",
   "execution_count": 43,
   "metadata": {},
   "outputs": [
    {
     "data": {
      "text/plain": [
       "array([ 0.02857143,  0.25396825,  0.45714286,  0.52063492,  0.45714286,\n",
       "        0.25396825,  0.02857143])"
      ]
     },
     "execution_count": 43,
     "metadata": {},
     "output_type": "execute_result"
    }
   ],
   "source": [
    "W = int_vector()\n",
    "W"
   ]
  },
  {
   "cell_type": "code",
   "execution_count": 44,
   "metadata": {},
   "outputs": [
    {
     "data": {
      "text/plain": [
       "2.0"
      ]
     },
     "execution_count": 44,
     "metadata": {},
     "output_type": "execute_result"
    }
   ],
   "source": [
    "float(2)\n"
   ]
  },
  {
   "cell_type": "code",
   "execution_count": 54,
   "metadata": {
    "collapsed": true
   },
   "outputs": [],
   "source": [
    "def energy(U2,V2):\n",
    "    W = int_vector()\n",
    "    U2 = np.asarray(U2)\n",
    "    V2 = np.asarray(V2)\n",
    "    \n",
    "    E = 0.25*(np.dot(W,np.matmul(W,(U2*U2 + V2*V2)))/cont.Re**2)\n",
    "    \n",
    "    return E"
   ]
  },
  {
   "cell_type": "code",
   "execution_count": 55,
   "metadata": {},
   "outputs": [
    {
     "data": {
      "text/plain": [
       "0.01361766455761875"
      ]
     },
     "execution_count": 55,
     "metadata": {},
     "output_type": "execute_result"
    }
   ],
   "source": [
    "energy(U2,V2)"
   ]
  },
  {
   "cell_type": "code",
   "execution_count": null,
   "metadata": {
    "collapsed": true
   },
   "outputs": [],
   "source": []
  },
  {
   "cell_type": "code",
   "execution_count": null,
   "metadata": {
    "collapsed": true
   },
   "outputs": [],
   "source": []
  },
  {
   "cell_type": "code",
   "execution_count": null,
   "metadata": {
    "collapsed": true,
    "scrolled": true
   },
   "outputs": [],
   "source": []
  },
  {
   "cell_type": "code",
   "execution_count": null,
   "metadata": {
    "collapsed": true
   },
   "outputs": [],
   "source": []
  }
 ],
 "metadata": {
  "kernelspec": {
   "display_name": "Python 3",
   "language": "python",
   "name": "python3"
  },
  "language_info": {
   "codemirror_mode": {
    "name": "ipython",
    "version": 3
   },
   "file_extension": ".py",
   "mimetype": "text/x-python",
   "name": "python",
   "nbconvert_exporter": "python",
   "pygments_lexer": "ipython3",
   "version": "3.6.3"
  }
 },
 "nbformat": 4,
 "nbformat_minor": 2
}
