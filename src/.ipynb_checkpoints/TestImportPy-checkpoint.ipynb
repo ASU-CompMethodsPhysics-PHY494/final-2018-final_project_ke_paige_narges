{
 "cells": [
  {
   "cell_type": "code",
   "execution_count": 1,
   "metadata": {},
   "outputs": [],
   "source": [
    "## simulations\n",
    "import numpy as np\n",
    "import input_parameters as cont\n",
    "import differentiation_matrix as diff\n",
    "import func_modules"
   ]
  },
  {
   "cell_type": "code",
   "execution_count": 2,
   "metadata": {
    "collapsed": true
   },
   "outputs": [],
   "source": [
    "## initialize Chebyshev differentiation matrix\n",
    "x,y = diff.xy_grid()"
   ]
  },
  {
   "cell_type": "code",
   "execution_count": 3,
   "metadata": {},
   "outputs": [],
   "source": [
    "## Call initialized U,V,T matrices\n",
    "## U0,U1,U2 at t = 0\n",
    "U0 = diff.U_0(x)\n",
    "U0[:,0] = 0\n",
    "U1 = U0\n",
    "U2 = U0\n",
    "\n",
    "## V0,V1,V2 at t = 0\n",
    "V0 = diff.V_0()\n",
    "V1 = V0\n",
    "V2 = V0\n",
    "\n",
    "## T0,T1,T2 at t = 0\n",
    "T0 = np.asmatrix(np.zeros([cont.M+1,cont.M+1]))\n",
    "T1 = diff.T_0()\n",
    "for j in range(1,cont.M): \n",
    "    T1[:,j] = y[j]\n",
    "T2 = T0"
   ]
  },
  {
   "cell_type": "code",
   "execution_count": 4,
   "metadata": {},
   "outputs": [
    {
     "data": {
      "text/plain": [
       "matrix([[  5.00000000e-01,   5.61455357e-01,   3.34002895e-01,\n",
       "           3.97872599e-17,  -3.34002895e-01,  -5.61455357e-01,\n",
       "          -5.00000000e-01],\n",
       "        [  5.00000000e-01,   5.61455357e-01,   3.34002895e-01,\n",
       "           3.93777105e-17,  -3.34002895e-01,  -5.61455357e-01,\n",
       "          -5.00000000e-01],\n",
       "        [  5.00000000e-01,   5.61455357e-01,   3.34002895e-01,\n",
       "           3.79670574e-17,  -3.34002895e-01,  -5.61455357e-01,\n",
       "          -5.00000000e-01],\n",
       "        [  5.00000000e-01,   5.61455357e-01,   3.34002895e-01,\n",
       "           3.82097821e-17,  -3.34002895e-01,  -5.61455357e-01,\n",
       "          -5.00000000e-01],\n",
       "        [  5.00000000e-01,   5.61455357e-01,   3.34002895e-01,\n",
       "           3.79670574e-17,  -3.34002895e-01,  -5.61455357e-01,\n",
       "          -5.00000000e-01],\n",
       "        [  5.00000000e-01,   5.61455357e-01,   3.34002895e-01,\n",
       "           3.93777105e-17,  -3.34002895e-01,  -5.61455357e-01,\n",
       "          -5.00000000e-01],\n",
       "        [  5.00000000e-01,   5.61455357e-01,   3.34002895e-01,\n",
       "           3.97872599e-17,  -3.34002895e-01,  -5.61455357e-01,\n",
       "          -5.00000000e-01]])"
      ]
     },
     "execution_count": 4,
     "metadata": {},
     "output_type": "execute_result"
    }
   ],
   "source": [
    "## Tempearture \n",
    "T2 = func_modules.T(U0,V0,T0,U1,V1,T1)\n",
    "T2"
   ]
  },
  {
   "cell_type": "code",
   "execution_count": 5,
   "metadata": {
    "scrolled": true
   },
   "outputs": [
    {
     "data": {
      "text/plain": [
       "matrix([[ 807138.14855568,  532123.59420796, -119130.15669053,\n",
       "         -408106.73065246, -119130.15669053,  532123.59420796,\n",
       "          807138.14855568],\n",
       "        [ 807138.14855568,  532123.59420796, -119130.15669053,\n",
       "         -408106.73065246, -119130.15669053,  532123.59420796,\n",
       "          807138.14855568],\n",
       "        [ 807138.14855568,  532123.59420796, -119130.15669053,\n",
       "         -408106.73065246, -119130.15669053,  532123.59420796,\n",
       "          807138.14855568],\n",
       "        [ 807138.14855568,  532123.59420796, -119130.15669053,\n",
       "         -408106.73065246, -119130.15669053,  532123.59420796,\n",
       "          807138.14855568],\n",
       "        [ 807138.14855568,  532123.59420796, -119130.15669053,\n",
       "         -408106.73065246, -119130.15669053,  532123.59420796,\n",
       "          807138.14855568],\n",
       "        [ 807138.14855568,  532123.59420796, -119130.15669053,\n",
       "         -408106.73065246, -119130.15669053,  532123.59420796,\n",
       "          807138.14855568],\n",
       "        [ 807138.14855568,  532123.59420796, -119130.15669053,\n",
       "         -408106.73065246, -119130.15669053,  532123.59420796,\n",
       "          807138.14855568]])"
      ]
     },
     "execution_count": 5,
     "metadata": {},
     "output_type": "execute_result"
    }
   ],
   "source": [
    "## Pressure\n",
    "P = func_modules.Pressure(U0,V0,T0,U1,V1,T1,T2)\n",
    "P\n"
   ]
  },
  {
   "cell_type": "code",
   "execution_count": 6,
   "metadata": {},
   "outputs": [],
   "source": [
    "## Velocity\n",
    "U,V = func_modules.Velocity(U0,V0,T0,U1,V1,T1,T2,P)"
   ]
  },
  {
   "cell_type": "code",
   "execution_count": 7,
   "metadata": {},
   "outputs": [],
   "source": [
    "## Phi, P2, U2, V2\n",
    "U2, V2, P2, phi = func_modules.correction(U,V,P)"
   ]
  },
  {
   "cell_type": "code",
   "execution_count": 10,
   "metadata": {},
   "outputs": [],
   "source": [
    "E = func_modules.energy(U2,V2)"
   ]
  },
  {
   "cell_type": "code",
   "execution_count": null,
   "metadata": {},
   "outputs": [],
   "source": []
  },
  {
   "cell_type": "code",
   "execution_count": null,
   "metadata": {
    "collapsed": true
   },
   "outputs": [],
   "source": []
  }
 ],
 "metadata": {
  "kernelspec": {
   "display_name": "Python 3",
   "language": "python",
   "name": "python3"
  },
  "language_info": {
   "codemirror_mode": {
    "name": "ipython",
    "version": 3
   },
   "file_extension": ".py",
   "mimetype": "text/x-python",
   "name": "python",
   "nbconvert_exporter": "python",
   "pygments_lexer": "ipython3",
   "version": "3.6.3"
  }
 },
 "nbformat": 4,
 "nbformat_minor": 2
}
